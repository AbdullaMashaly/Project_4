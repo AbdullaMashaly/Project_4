{
 "cells": [
  {
   "cell_type": "code",
   "execution_count": 1,
   "metadata": {},
   "outputs": [
    {
     "name": "stderr",
     "output_type": "stream",
     "text": [
      "Setting default log level to \"WARN\".\n",
      "To adjust logging level use sc.setLogLevel(newLevel). For SparkR, use setLogLevel(newLevel).\n",
      "23/11/29 00:09:42 WARN NativeCodeLoader: Unable to load native-hadoop library for your platform... using builtin-java classes where applicable\n",
      "23/11/29 00:09:42 WARN Utils: Service 'SparkUI' could not bind on port 4040. Attempting port 4041.\n"
     ]
    }
   ],
   "source": [
    "# Import Dependencies\n",
    "import pandas as pd\n",
    "\n",
    "from pyspark.sql import SparkSession\n",
    "from pyspark.sql.types import IntegerType, FloatType\n",
    "from pyspark.sql.functions import col, explode, when, sum, size\n",
    "\n",
    "# Initialize Spark Session\n",
    "spark = SparkSession.builder.appName(\"BookRatingDataCleaning\").getOrCreate()"
   ]
  },
  {
   "cell_type": "code",
   "execution_count": 2,
   "metadata": {},
   "outputs": [
    {
     "name": "stdout",
     "output_type": "stream",
     "text": [
      "+-------------+--------------+--------+--------------------+---------+----------------+-------------+------------------+---------------------+\n",
      "|       isbn13|average_rating| book_id|              format|num_pages|publication_year|ratings_count|text_reviews_count|author_average_rating|\n",
      "+-------------+--------------+--------+--------------------+---------+----------------+-------------+------------------+---------------------+\n",
      "|0000814474233|          3.62|  598454|           Hardcover|      220|            2007|           97|                19|                 3.62|\n",
      "|0008520919197|          4.07| 3623612|           Paperback|      288|            2006|           21|                 2|                 3.97|\n",
      "|0008987086307|          4.25| 1776757|           Paperback|      250|            2002|           14|                 1|                 4.35|\n",
      "|0031809055007|           4.1|  402191|           Paperback|      480|            2000|          402|                26|                 4.13|\n",
      "|0073999304862|          3.68| 1126975|           Paperback|      122|            1999|           22|                 2|                 3.82|\n",
      "|0073999815832|          4.24|  695642|           Paperback|       80|            1991|           51|                 2|                 4.24|\n",
      "|0095177201657|          3.69| 2708965|           Paperback|       35|            1995|           15|                 1|                 3.99|\n",
      "|0600835096621|          4.19|   14094|            Audio CD|        4|            2005|          562|                13|                 4.11|\n",
      "|0635517094947|          4.08| 1686182|           Paperback|      400|            2004|           22|                 3|                3.945|\n",
      "|0671656414295|          4.25|  751823|Mass Market Paper...|      247|            1987|         2117|                25|                 4.01|\n",
      "|   0684718065|          3.98| 6896733|           Paperback|      499|            1966|           32|                 3|                 3.82|\n",
      "|0781401928148|          3.98|18243877|           Hardcover|      172|            2013|          139|                28|                  4.1|\n",
      "|0785342745764|          3.61| 1762375|           Paperback|      288|            2002|           38|                 6|                  3.8|\n",
      "|0785342823769|          4.06| 1574425|           Paperback|      864|            1995|           30|                 3|                4.135|\n",
      "|0785555868038|          3.58|  630045|           Paperback|      428|            2003|           59|                 9|                3.585|\n",
      "|0884088076337|          4.22|   27585|           Paperback|      239|            2006|          139|                10|                 4.22|\n",
      "|1200700010103|          3.81|13630987|           Paperback|      352|            2007|           15|                 1|                3.895|\n",
      "|1230000116535|          3.63|16058984|               ebook|      226|            2013|         1954|               293|                  3.7|\n",
      "|1230000118352|          3.89|17738091|               ebook|       93|            2013|           10|                 2|                 3.59|\n",
      "|1931498164006|          3.66|   95134|           Paperback|      325|            2004|           29|                 3|                 3.76|\n",
      "+-------------+--------------+--------+--------------------+---------+----------------+-------------+------------------+---------------------+\n",
      "only showing top 20 rows\n",
      "\n"
     ]
    }
   ],
   "source": [
    "# Read in data\n",
    "df = spark.read.csv('../../Resources/panda_df/books_sample_trial2.csv', header=True)\n",
    "df.show()"
   ]
  },
  {
   "cell_type": "code",
   "execution_count": 3,
   "metadata": {},
   "outputs": [
    {
     "name": "stdout",
     "output_type": "stream",
     "text": [
      "root\n",
      " |-- isbn13: string (nullable = true)\n",
      " |-- average_rating: string (nullable = true)\n",
      " |-- book_id: string (nullable = true)\n",
      " |-- format: string (nullable = true)\n",
      " |-- num_pages: string (nullable = true)\n",
      " |-- publication_year: string (nullable = true)\n",
      " |-- ratings_count: string (nullable = true)\n",
      " |-- text_reviews_count: string (nullable = true)\n",
      " |-- author_average_rating: string (nullable = true)\n",
      "\n"
     ]
    }
   ],
   "source": [
    "df.printSchema()"
   ]
  },
  {
   "cell_type": "code",
   "execution_count": 4,
   "metadata": {},
   "outputs": [
    {
     "data": {
      "text/plain": [
       "83939"
      ]
     },
     "execution_count": 4,
     "metadata": {},
     "output_type": "execute_result"
    }
   ],
   "source": [
    "df.count()"
   ]
  },
  {
   "cell_type": "code",
   "execution_count": 5,
   "metadata": {},
   "outputs": [
    {
     "data": {
      "text/html": [
       "<div>\n",
       "<style scoped>\n",
       "    .dataframe tbody tr th:only-of-type {\n",
       "        vertical-align: middle;\n",
       "    }\n",
       "\n",
       "    .dataframe tbody tr th {\n",
       "        vertical-align: top;\n",
       "    }\n",
       "\n",
       "    .dataframe thead th {\n",
       "        text-align: right;\n",
       "    }\n",
       "</style>\n",
       "<table border=\"1\" class=\"dataframe\">\n",
       "  <thead>\n",
       "    <tr style=\"text-align: right;\">\n",
       "      <th></th>\n",
       "      <th>isbn13</th>\n",
       "      <th>average_rating</th>\n",
       "      <th>book_id</th>\n",
       "      <th>format</th>\n",
       "      <th>num_pages</th>\n",
       "      <th>publication_year</th>\n",
       "      <th>ratings_count</th>\n",
       "      <th>text_reviews_count</th>\n",
       "      <th>author_average_rating</th>\n",
       "    </tr>\n",
       "  </thead>\n",
       "  <tbody>\n",
       "    <tr>\n",
       "      <th>0</th>\n",
       "      <td>0000814474233</td>\n",
       "      <td>3.62</td>\n",
       "      <td>598454</td>\n",
       "      <td>Hardcover</td>\n",
       "      <td>220</td>\n",
       "      <td>2007</td>\n",
       "      <td>97</td>\n",
       "      <td>19</td>\n",
       "      <td>3.62</td>\n",
       "    </tr>\n",
       "    <tr>\n",
       "      <th>1</th>\n",
       "      <td>0008520919197</td>\n",
       "      <td>4.07</td>\n",
       "      <td>3623612</td>\n",
       "      <td>Paperback</td>\n",
       "      <td>288</td>\n",
       "      <td>2006</td>\n",
       "      <td>21</td>\n",
       "      <td>2</td>\n",
       "      <td>3.97</td>\n",
       "    </tr>\n",
       "    <tr>\n",
       "      <th>2</th>\n",
       "      <td>0008987086307</td>\n",
       "      <td>4.25</td>\n",
       "      <td>1776757</td>\n",
       "      <td>Paperback</td>\n",
       "      <td>250</td>\n",
       "      <td>2002</td>\n",
       "      <td>14</td>\n",
       "      <td>1</td>\n",
       "      <td>4.35</td>\n",
       "    </tr>\n",
       "    <tr>\n",
       "      <th>3</th>\n",
       "      <td>0031809055007</td>\n",
       "      <td>4.1</td>\n",
       "      <td>402191</td>\n",
       "      <td>Paperback</td>\n",
       "      <td>480</td>\n",
       "      <td>2000</td>\n",
       "      <td>402</td>\n",
       "      <td>26</td>\n",
       "      <td>4.13</td>\n",
       "    </tr>\n",
       "    <tr>\n",
       "      <th>4</th>\n",
       "      <td>0073999304862</td>\n",
       "      <td>3.68</td>\n",
       "      <td>1126975</td>\n",
       "      <td>Paperback</td>\n",
       "      <td>122</td>\n",
       "      <td>1999</td>\n",
       "      <td>22</td>\n",
       "      <td>2</td>\n",
       "      <td>3.82</td>\n",
       "    </tr>\n",
       "  </tbody>\n",
       "</table>\n",
       "</div>"
      ],
      "text/plain": [
       "          isbn13 average_rating  book_id     format num_pages  \\\n",
       "0  0000814474233           3.62   598454  Hardcover       220   \n",
       "1  0008520919197           4.07  3623612  Paperback       288   \n",
       "2  0008987086307           4.25  1776757  Paperback       250   \n",
       "3  0031809055007            4.1   402191  Paperback       480   \n",
       "4  0073999304862           3.68  1126975  Paperback       122   \n",
       "\n",
       "  publication_year ratings_count text_reviews_count author_average_rating  \n",
       "0             2007            97                 19                  3.62  \n",
       "1             2006            21                  2                  3.97  \n",
       "2             2002            14                  1                  4.35  \n",
       "3             2000           402                 26                  4.13  \n",
       "4             1999            22                  2                  3.82  "
      ]
     },
     "execution_count": 5,
     "metadata": {},
     "output_type": "execute_result"
    }
   ],
   "source": [
    "# Change dataframe to pandas dataframe\n",
    "books_df = df.toPandas()\n",
    "books_df.head()"
   ]
  },
  {
   "cell_type": "code",
   "execution_count": 6,
   "metadata": {},
   "outputs": [
    {
     "name": "stdout",
     "output_type": "stream",
     "text": [
      "<class 'pandas.core.frame.DataFrame'>\n",
      "RangeIndex: 83939 entries, 0 to 83938\n",
      "Data columns (total 9 columns):\n",
      " #   Column                 Non-Null Count  Dtype \n",
      "---  ------                 --------------  ----- \n",
      " 0   isbn13                 83939 non-null  object\n",
      " 1   average_rating         83939 non-null  object\n",
      " 2   book_id                83939 non-null  object\n",
      " 3   format                 83939 non-null  object\n",
      " 4   num_pages              83939 non-null  object\n",
      " 5   publication_year       83939 non-null  object\n",
      " 6   ratings_count          83939 non-null  object\n",
      " 7   text_reviews_count     83939 non-null  object\n",
      " 8   author_average_rating  83939 non-null  object\n",
      "dtypes: object(9)\n",
      "memory usage: 5.8+ MB\n"
     ]
    }
   ],
   "source": [
    "books_df.info()"
   ]
  },
  {
   "cell_type": "code",
   "execution_count": 7,
   "metadata": {},
   "outputs": [
    {
     "data": {
      "text/plain": [
       "0"
      ]
     },
     "execution_count": 7,
     "metadata": {},
     "output_type": "execute_result"
    }
   ],
   "source": [
    "# Check for null values\n",
    "books_df.value_counts().isnull().sum()"
   ]
  },
  {
   "cell_type": "code",
   "execution_count": 8,
   "metadata": {},
   "outputs": [
    {
     "name": "stdout",
     "output_type": "stream",
     "text": [
      "<class 'pandas.core.frame.DataFrame'>\n",
      "RangeIndex: 83939 entries, 0 to 83938\n",
      "Data columns (total 9 columns):\n",
      " #   Column                 Non-Null Count  Dtype  \n",
      "---  ------                 --------------  -----  \n",
      " 0   isbn13                 83939 non-null  object \n",
      " 1   average_rating         83939 non-null  float32\n",
      " 2   book_id                83939 non-null  object \n",
      " 3   format                 83939 non-null  object \n",
      " 4   num_pages              83939 non-null  int32  \n",
      " 5   publication_year       83939 non-null  int32  \n",
      " 6   ratings_count          83939 non-null  int32  \n",
      " 7   text_reviews_count     83939 non-null  int32  \n",
      " 8   author_average_rating  83939 non-null  float32\n",
      "dtypes: float32(2), int32(4), object(3)\n",
      "memory usage: 3.8+ MB\n"
     ]
    }
   ],
   "source": [
    "# Change data types\n",
    "# Convert columns to numeric, coercing errors to NaN\n",
    "books_df['num_pages'] = pd.to_numeric(books_df['num_pages'], errors='coerce')\n",
    "books_df['publication_year'] = pd.to_numeric(books_df['publication_year'], errors='coerce')\n",
    "books_df['ratings_count'] = pd.to_numeric(books_df['ratings_count'], errors='coerce')\n",
    "books_df['text_reviews_count'] = pd.to_numeric(books_df['text_reviews_count'], errors='coerce')\n",
    "\n",
    "books_df['average_rating'] = pd.to_numeric(books_df['average_rating'], errors='coerce')\n",
    "books_df['author_average_rating'] = pd.to_numeric(books_df['author_average_rating'], errors='coerce')\n",
    "\n",
    "# Drop rows with NaN values in these columns\n",
    "books_df = books_df.dropna(subset=['num_pages', 'publication_year', 'ratings_count', 'text_reviews_count', 'average_rating', 'author_average_rating'])\n",
    "\n",
    "# Convert columns to integer\n",
    "books_df = books_df.astype({'num_pages': 'int32', 'publication_year': 'int32', 'ratings_count': 'int32',\n",
    "                            'text_reviews_count': 'int32'})\n",
    "\n",
    "clean_df = books_df.astype({'average_rating': 'float32', 'author_average_rating': 'float32'})\n",
    "\n",
    "clean_df.info()"
   ]
  },
  {
   "cell_type": "code",
   "execution_count": 9,
   "metadata": {},
   "outputs": [
    {
     "data": {
      "text/html": [
       "<div>\n",
       "<style scoped>\n",
       "    .dataframe tbody tr th:only-of-type {\n",
       "        vertical-align: middle;\n",
       "    }\n",
       "\n",
       "    .dataframe tbody tr th {\n",
       "        vertical-align: top;\n",
       "    }\n",
       "\n",
       "    .dataframe thead th {\n",
       "        text-align: right;\n",
       "    }\n",
       "</style>\n",
       "<table border=\"1\" class=\"dataframe\">\n",
       "  <thead>\n",
       "    <tr style=\"text-align: right;\">\n",
       "      <th></th>\n",
       "      <th>average_rating</th>\n",
       "      <th>num_pages</th>\n",
       "      <th>publication_year</th>\n",
       "      <th>ratings_count</th>\n",
       "      <th>text_reviews_count</th>\n",
       "      <th>author_average_rating</th>\n",
       "    </tr>\n",
       "  </thead>\n",
       "  <tbody>\n",
       "    <tr>\n",
       "      <th>count</th>\n",
       "      <td>83939.000000</td>\n",
       "      <td>83939.000000</td>\n",
       "      <td>83939.000000</td>\n",
       "      <td>8.393900e+04</td>\n",
       "      <td>83939.000000</td>\n",
       "      <td>83939.000000</td>\n",
       "    </tr>\n",
       "    <tr>\n",
       "      <th>mean</th>\n",
       "      <td>3.862130</td>\n",
       "      <td>278.002359</td>\n",
       "      <td>2007.283813</td>\n",
       "      <td>7.956780e+02</td>\n",
       "      <td>52.080177</td>\n",
       "      <td>3.890725</td>\n",
       "    </tr>\n",
       "    <tr>\n",
       "      <th>std</th>\n",
       "      <td>0.361524</td>\n",
       "      <td>163.228148</td>\n",
       "      <td>8.939775</td>\n",
       "      <td>1.531151e+04</td>\n",
       "      <td>484.101807</td>\n",
       "      <td>0.274943</td>\n",
       "    </tr>\n",
       "    <tr>\n",
       "      <th>min</th>\n",
       "      <td>1.000000</td>\n",
       "      <td>0.000000</td>\n",
       "      <td>1921.000000</td>\n",
       "      <td>1.000000e+01</td>\n",
       "      <td>0.000000</td>\n",
       "      <td>1.120000</td>\n",
       "    </tr>\n",
       "    <tr>\n",
       "      <th>25%</th>\n",
       "      <td>3.650000</td>\n",
       "      <td>176.000000</td>\n",
       "      <td>2004.000000</td>\n",
       "      <td>2.200000e+01</td>\n",
       "      <td>4.000000</td>\n",
       "      <td>3.740000</td>\n",
       "    </tr>\n",
       "    <tr>\n",
       "      <th>50%</th>\n",
       "      <td>3.890000</td>\n",
       "      <td>264.000000</td>\n",
       "      <td>2010.000000</td>\n",
       "      <td>5.100000e+01</td>\n",
       "      <td>8.000000</td>\n",
       "      <td>3.905000</td>\n",
       "    </tr>\n",
       "    <tr>\n",
       "      <th>75%</th>\n",
       "      <td>4.110000</td>\n",
       "      <td>356.000000</td>\n",
       "      <td>2013.000000</td>\n",
       "      <td>1.580000e+02</td>\n",
       "      <td>22.000000</td>\n",
       "      <td>4.065000</td>\n",
       "    </tr>\n",
       "    <tr>\n",
       "      <th>max</th>\n",
       "      <td>5.000000</td>\n",
       "      <td>1495.000000</td>\n",
       "      <td>2020.000000</td>\n",
       "      <td>2.758812e+06</td>\n",
       "      <td>45748.000000</td>\n",
       "      <td>5.000000</td>\n",
       "    </tr>\n",
       "  </tbody>\n",
       "</table>\n",
       "</div>"
      ],
      "text/plain": [
       "       average_rating     num_pages  publication_year  ratings_count  \\\n",
       "count    83939.000000  83939.000000      83939.000000   8.393900e+04   \n",
       "mean         3.862130    278.002359       2007.283813   7.956780e+02   \n",
       "std          0.361524    163.228148          8.939775   1.531151e+04   \n",
       "min          1.000000      0.000000       1921.000000   1.000000e+01   \n",
       "25%          3.650000    176.000000       2004.000000   2.200000e+01   \n",
       "50%          3.890000    264.000000       2010.000000   5.100000e+01   \n",
       "75%          4.110000    356.000000       2013.000000   1.580000e+02   \n",
       "max          5.000000   1495.000000       2020.000000   2.758812e+06   \n",
       "\n",
       "       text_reviews_count  author_average_rating  \n",
       "count        83939.000000           83939.000000  \n",
       "mean            52.080177               3.890725  \n",
       "std            484.101807               0.274943  \n",
       "min              0.000000               1.120000  \n",
       "25%              4.000000               3.740000  \n",
       "50%              8.000000               3.905000  \n",
       "75%             22.000000               4.065000  \n",
       "max          45748.000000               5.000000  "
      ]
     },
     "execution_count": 9,
     "metadata": {},
     "output_type": "execute_result"
    }
   ],
   "source": [
    "clean_df.describe()"
   ]
  },
  {
   "cell_type": "code",
   "execution_count": 10,
   "metadata": {},
   "outputs": [
    {
     "data": {
      "text/plain": [
       "Paperback                51841\n",
       "Hardcover                21175\n",
       "ebook                     5794\n",
       "Mass Market Paperback     2517\n",
       "Audio CD                   840\n",
       "                         ...  \n",
       "Librino                      1\n",
       "Book                         1\n",
       "trade paperback              1\n",
       "Print and Download           1\n",
       "Box                          1\n",
       "Name: format, Length: 152, dtype: int64"
      ]
     },
     "execution_count": 10,
     "metadata": {},
     "output_type": "execute_result"
    }
   ],
   "source": [
    "clean_df['format'].value_counts()"
   ]
  },
  {
   "cell_type": "code",
   "execution_count": 11,
   "metadata": {},
   "outputs": [
    {
     "data": {
      "text/plain": [
       "Paperback    51841\n",
       "Hardcover    21175\n",
       "ebook         5794\n",
       "other         5129\n",
       "Name: format, dtype: int64"
      ]
     },
     "execution_count": 11,
     "metadata": {},
     "output_type": "execute_result"
    }
   ],
   "source": [
    "# Change unpoupular formats to 'other'\n",
    "clean_df.loc[(clean_df['format'] != 'Paperback') & (clean_df['format'] != 'Hardcover') & (clean_df['format'] != 'ebook'), 'format'] = 'other'\n",
    "clean_df['format'].value_counts()"
   ]
  },
  {
   "cell_type": "code",
   "execution_count": 12,
   "metadata": {},
   "outputs": [],
   "source": [
    "# Export dataframe to csv\n",
    "clean_df.to_csv('../../Resources/panda_df/books_cleaned_Trial2.csv', index=False)"
   ]
  }
 ],
 "metadata": {
  "kernelspec": {
   "display_name": "dev",
   "language": "python",
   "name": "python3"
  },
  "language_info": {
   "codemirror_mode": {
    "name": "ipython",
    "version": 3
   },
   "file_extension": ".py",
   "mimetype": "text/x-python",
   "name": "python",
   "nbconvert_exporter": "python",
   "pygments_lexer": "ipython3",
   "version": "3.10.13"
  },
  "orig_nbformat": 4
 },
 "nbformat": 4,
 "nbformat_minor": 2
}
