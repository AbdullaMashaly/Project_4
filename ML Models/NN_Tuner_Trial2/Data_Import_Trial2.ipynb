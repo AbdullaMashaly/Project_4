{
 "cells": [
  {
   "cell_type": "code",
   "execution_count": 1,
   "metadata": {},
   "outputs": [
    {
     "name": "stderr",
     "output_type": "stream",
     "text": [
      "Setting default log level to \"WARN\".\n",
      "To adjust logging level use sc.setLogLevel(newLevel). For SparkR, use setLogLevel(newLevel).\n",
      "23/11/29 00:04:18 WARN NativeCodeLoader: Unable to load native-hadoop library for your platform... using builtin-java classes where applicable\n",
      "23/11/29 00:04:18 WARN Utils: Service 'SparkUI' could not bind on port 4040. Attempting port 4041.\n",
      "23/11/29 00:04:18 WARN Utils: Service 'SparkUI' could not bind on port 4041. Attempting port 4042.\n"
     ]
    }
   ],
   "source": [
    "# Import Dependencies\n",
    "from pyspark.sql import SparkSession\n",
    "from pyspark.sql.types import IntegerType, FloatType\n",
    "from pyspark.sql.functions import col, explode, when, sum, size\n",
    "import pandas as pd\n",
    "\n",
    "\n",
    "\n",
    "# Initialize Spark Session\n",
    "spark = SparkSession.builder.appName(\"BookRatingPrediction\").getOrCreate()"
   ]
  },
  {
   "cell_type": "code",
   "execution_count": 2,
   "metadata": {},
   "outputs": [
    {
     "name": "stderr",
     "output_type": "stream",
     "text": [
      "                                                                                \r"
     ]
    },
    {
     "name": "stdout",
     "output_type": "stream",
     "text": [
      "+--------------------+--------------+--------+--------------+-------------+---------+--------------------+----------------+-------------+--------+------------------+\n",
      "|             authors|average_rating| book_id|        format|       isbn13|num_pages|     popular_shelves|publication_year|ratings_count|  series|text_reviews_count|\n",
      "+--------------------+--------------+--------+--------------+-------------+---------+--------------------+----------------+-------------+--------+------------------+\n",
      "|[{9759, }, {47445...|           3.8|26228189| Audible Audio|             |       14|[{856, to-read}, ...|            2015|           14|[145513]|                 8|\n",
      "|[{6588332, }, {65...|          4.12|16171688|     Paperback|9781480227880|      294|[{111, to-read}, ...|            2012|           45|      []|                19|\n",
      "|       [{9880719, }]|          4.71|24912692|     Paperback|9780615948782|      243|[{254, to-read}, ...|            2014|            7|      []|                 2|\n",
      "|         [{36714, }]|           3.9|10107215|     Hardcover|9788804410355|      444|[{1043, to-read},...|            1996|           34|      []|                 5|\n",
      "|       [{3376141, }]|          3.82| 7734490|     Paperback|9789792767896|      186|[{11, to-read}, {...|            2010|           11|[992905]|                 3|\n",
      "|      [{14131911, }]|          4.18|25810693|     Hardcover|9780761180524|      352|[{3464, to-read},...|            2016|          307|      []|                71|\n",
      "|[{29110, }, {6784...|          3.97|   51652|     Paperback|9780940322349|      518|[{1074, to-read},...|            1999|          364|      []|                28|\n",
      "|        [{988094, }]|          4.45|17623326|     Paperback|9780988800403|      348|[{32, to-read}, {...|            2013|            6|[495825]|                 3|\n",
      "|[{7751, }, {10680...|          3.67|23403568|     Paperback|             |       90|[{28757, to-read}...|            2000|           11|      []|                 2|\n",
      "|[{13542444, Edito...|          4.14|10119752|     Paperback|9781857549386|      220|[{6, to-read}, {1...|            2010|            7|      []|                 1|\n",
      "|[{751158, }, {777...|          3.61|25461445|         ebook|             |      104|[{10, to-read}, {...|            2015|           54|      []|                 7|\n",
      "|       [{5031025, }]|          4.19|11637932|     Paperback|9781461078432|      194|[{976, to-read}, ...|            2011|            7|      []|                 2|\n",
      "|         [{79436, }]|           3.6|17707999|     Paperback|9781593765286|      368|[{220, to-read}, ...|            2013|           11|      []|                 4|\n",
      "|[{8198065, }, {50...|          3.91|25001845|     Paperback|9781508425946|      382|[{329, to-read}, ...|            2015|           17|      []|                 4|\n",
      "|         [{59712, }]|          4.02|  805424|     Hardcover|9780374253936|       65|[{74, to-read}, {...|            1993|           18|      []|                 3|\n",
      "|      [{15437613, }]|           3.5|30896432|     Paperback|9789385827068|      256|[{47, to-read}, {...|            2016|            4|      []|                 1|\n",
      "|         [{43602, }]|          4.16|  600335|     Paperback|9780060529345|      624|[{4216, to-read},...|            2003|         2348|      []|               320|\n",
      "|       [{4425763, }]|          3.26|12995576|Kindle Edition|             |       10|[{228, to-read}, ...|            2011|          100|      []|                 9|\n",
      "|[{17061, }, {5445...|          3.65|22466162|      Audio CD|9781470329129|        9|[{3254, to-read},...|            2014|           66|[758697]|                29|\n",
      "|       [{6906356, }]|          3.48|17732525|     Paperback|9781608208609|      210|[{206, to-read}, ...|            2013|           30|[490469]|                14|\n",
      "+--------------------+--------------+--------+--------------+-------------+---------+--------------------+----------------+-------------+--------+------------------+\n",
      "only showing top 20 rows\n",
      "\n"
     ]
    }
   ],
   "source": [
    "# Read the data back in from the multiple files\n",
    "df = spark.read.json(\"../../Resources/data_chunks\")\n",
    "\n",
    "# List of columns to drop\n",
    "columns_to_drop = ['asin','country_code', 'description', 'isbn', 'similar_books', 'title_without_series','is_ebook', 'work_id' , 'link', 'image_url', 'url', 'edition_information', 'kindle_asin','language_code', 'publication_day', 'publication_month', 'publisher', 'title']\n",
    "\n",
    "# Dropping unnecessary columns\n",
    "df = df.drop(*columns_to_drop)\n",
    "\n",
    "# Convert data types\n",
    "df = df.withColumn(\"average_rating\", col(\"average_rating\").cast(FloatType())) \\\n",
    "    .withColumn(\"ratings_count\", col(\"ratings_count\").cast(IntegerType())) \\\n",
    "    .withColumn(\"num_pages\", col(\"num_pages\").cast(IntegerType())) \\\n",
    "    .withColumn(\"text_reviews_count\", col(\"text_reviews_count\").cast(IntegerType()))\n",
    "\n",
    "# drop rows with null values\n",
    "df = df.dropna(how='any')\n",
    "\n",
    "# Show the first few rows to verify\n",
    "df.show()"
   ]
  },
  {
   "cell_type": "code",
   "execution_count": 3,
   "metadata": {},
   "outputs": [
    {
     "name": "stdout",
     "output_type": "stream",
     "text": [
      "root\n",
      " |-- authors: array (nullable = true)\n",
      " |    |-- element: struct (containsNull = true)\n",
      " |    |    |-- author_id: string (nullable = true)\n",
      " |    |    |-- role: string (nullable = true)\n",
      " |-- average_rating: float (nullable = true)\n",
      " |-- book_id: string (nullable = true)\n",
      " |-- format: string (nullable = true)\n",
      " |-- isbn13: string (nullable = true)\n",
      " |-- num_pages: integer (nullable = true)\n",
      " |-- popular_shelves: array (nullable = true)\n",
      " |    |-- element: struct (containsNull = true)\n",
      " |    |    |-- count: string (nullable = true)\n",
      " |    |    |-- name: string (nullable = true)\n",
      " |-- publication_year: string (nullable = true)\n",
      " |-- ratings_count: integer (nullable = true)\n",
      " |-- series: array (nullable = true)\n",
      " |    |-- element: string (containsNull = true)\n",
      " |-- text_reviews_count: integer (nullable = true)\n",
      "\n"
     ]
    }
   ],
   "source": [
    "# Print the schema to see the types\n",
    "df.printSchema()"
   ]
  },
  {
   "cell_type": "code",
   "execution_count": 4,
   "metadata": {},
   "outputs": [
    {
     "name": "stdout",
     "output_type": "stream",
     "text": [
      "+--------------------+--------------+--------+--------------------+-------------+---------+--------------------+----------------+-------------+--------+------------------+\n",
      "|             authors|average_rating| book_id|              format|       isbn13|num_pages|     popular_shelves|publication_year|ratings_count|  series|text_reviews_count|\n",
      "+--------------------+--------------+--------+--------------------+-------------+---------+--------------------+----------------+-------------+--------+------------------+\n",
      "|[{6588332, }, {65...|          4.12|16171688|           Paperback|9781480227880|      294|[{111, to-read}, ...|            2012|           45|      []|                19|\n",
      "|       [{9880719, }]|          4.71|24912692|           Paperback|9780615948782|      243|[{254, to-read}, ...|            2014|            7|      []|                 2|\n",
      "|         [{36714, }]|           3.9|10107215|           Hardcover|9788804410355|      444|[{1043, to-read},...|            1996|           34|      []|                 5|\n",
      "|       [{3376141, }]|          3.82| 7734490|           Paperback|9789792767896|      186|[{11, to-read}, {...|            2010|           11|[992905]|                 3|\n",
      "|      [{14131911, }]|          4.18|25810693|           Hardcover|9780761180524|      352|[{3464, to-read},...|            2016|          307|      []|                71|\n",
      "|[{29110, }, {6784...|          3.97|   51652|           Paperback|9780940322349|      518|[{1074, to-read},...|            1999|          364|      []|                28|\n",
      "|        [{988094, }]|          4.45|17623326|           Paperback|9780988800403|      348|[{32, to-read}, {...|            2013|            6|[495825]|                 3|\n",
      "|[{13542444, Edito...|          4.14|10119752|           Paperback|9781857549386|      220|[{6, to-read}, {1...|            2010|            7|      []|                 1|\n",
      "|       [{5031025, }]|          4.19|11637932|           Paperback|9781461078432|      194|[{976, to-read}, ...|            2011|            7|      []|                 2|\n",
      "|         [{79436, }]|           3.6|17707999|           Paperback|9781593765286|      368|[{220, to-read}, ...|            2013|           11|      []|                 4|\n",
      "|[{8198065, }, {50...|          3.91|25001845|           Paperback|9781508425946|      382|[{329, to-read}, ...|            2015|           17|      []|                 4|\n",
      "|         [{59712, }]|          4.02|  805424|           Hardcover|9780374253936|       65|[{74, to-read}, {...|            1993|           18|      []|                 3|\n",
      "|      [{15437613, }]|           3.5|30896432|           Paperback|9789385827068|      256|[{47, to-read}, {...|            2016|            4|      []|                 1|\n",
      "|         [{43602, }]|          4.16|  600335|           Paperback|9780060529345|      624|[{4216, to-read},...|            2003|         2348|      []|               320|\n",
      "|[{17061, }, {5445...|          3.65|22466162|            Audio CD|9781470329129|        9|[{3254, to-read},...|            2014|           66|[758697]|                29|\n",
      "|       [{6906356, }]|          3.48|17732525|           Paperback|9781608208609|      210|[{206, to-read}, ...|            2013|           30|[490469]|                14|\n",
      "|       [{4512899, }]|           4.2|29681679|Tapa dura con sob...|9788401017193|      560|[{389, currently-...|            2016|           82|[760858]|                28|\n",
      "|       [{3149556, }]|          3.03| 7181543|               ebook|9781606016688|       66|[{62, to-read}, {...|            2009|          141|      []|                 5|\n",
      "|         [{27696, }]|          3.97| 6869782|           Paperback|9781556529580|      368|[{1407, to-read},...|            2009|           77|      []|                 7|\n",
      "|        [{776337, }]|          3.89|15803030|           Hardcover|9781451688726|      448|[{234, to-read}, ...|            2013|            8|[465583]|                 5|\n",
      "+--------------------+--------------+--------+--------------------+-------------+---------+--------------------+----------------+-------------+--------+------------------+\n",
      "only showing top 20 rows\n",
      "\n"
     ]
    }
   ],
   "source": [
    "# To filter out rows with empty strings in any column\n",
    "df_cleaned = df.filter(\n",
    "    (col(\"country_code\").isNotNull() & (col(\"country_code\") != \"\")) &\n",
    "    (col(\"format\").isNotNull() & (col(\"format\") != \"\")) &\n",
    "    (col(\"publication_year\").isNotNull() & (col(\"publication_year\") != \"\")) &\n",
    "    col(\"num_pages\").isNotNull() &\n",
    "    col(\"ratings_count\").isNotNull() &\n",
    "    col(\"text_reviews_count\").isNotNull() & col(\"average_rating\").isNotNull()\n",
    "    & (col(\"isbn13\").isNotNull() & (col(\"isbn13\") != \"\"))\n",
    ")\n",
    "\n",
    "df_cleaned.show()"
   ]
  },
  {
   "cell_type": "code",
   "execution_count": 5,
   "metadata": {},
   "outputs": [],
   "source": [
    "# Drop duplicates\n",
    "df = df_cleaned.dropDuplicates(['isbn13'])"
   ]
  },
  {
   "cell_type": "code",
   "execution_count": 6,
   "metadata": {},
   "outputs": [
    {
     "name": "stderr",
     "output_type": "stream",
     "text": [
      "                                                                                \r"
     ]
    },
    {
     "data": {
      "text/plain": [
       "838200"
      ]
     },
     "execution_count": 6,
     "metadata": {},
     "output_type": "execute_result"
    }
   ],
   "source": [
    "# Select books published after 1900\n",
    "df = df.filter(col(\"publication_year\") > 1900)\n",
    "df = df.filter(col(\"publication_year\") < 2024)\n",
    "\n",
    "# Select books with rating more than or equal to 1\n",
    "df = df.filter(col(\"average_rating\") >= 1)\n",
    "\n",
    "# Select books with more than 10 ratings\n",
    "df = df.filter(col(\"ratings_count\") >= 10)\n",
    "\n",
    "# Select books with number of pages less than 1500\n",
    "df = df.filter(col(\"num_pages\") <= 1500)\n",
    "\n",
    "df.count()"
   ]
  },
  {
   "cell_type": "code",
   "execution_count": 7,
   "metadata": {},
   "outputs": [
    {
     "name": "stdout",
     "output_type": "stream",
     "text": [
      "+---------+--------------+-------------------+-------------+------------------+\n",
      "|author_id|average_rating|               name|ratings_count|text_reviews_count|\n",
      "+---------+--------------+-------------------+-------------+------------------+\n",
      "|   604031|          3.98|   Ronald J. Fields|           49|                 7|\n",
      "|   626222|          4.08|      Anita Diamant|       546796|             28716|\n",
      "|    10333|          3.92|     Barbara Hambly|       122118|              5075|\n",
      "|     9212|          3.68|    Jennifer Weiner|       888522|             36262|\n",
      "|   149918|          3.82|      Nigel Pennick|         1740|                96|\n",
      "|  3041852|          3.89|   Alfred J. Church|          947|                85|\n",
      "|   215594|          4.17| Michael Halberstam|           23|                 6|\n",
      "|    19158|          4.18|     Rachel Roberts|        13677|               486|\n",
      "|  5807700|          3.99|         V.L. Locey|         3130|               986|\n",
      "|  2983296|          3.48|Anton Szandor LaVey|        12628|               824|\n",
      "|    40075|          3.76|      Kenneth Anger|         5255|               396|\n",
      "|    37778|          3.86|     Bernard Knight|         7836|               616|\n",
      "|   242185|          3.95|     Carolyn Haines|        42549|              2906|\n",
      "|    27397|          4.00|      Benjamin Hoff|       104975|              4231|\n",
      "|    35259|          3.54|   Christopher Ross|          420|                81|\n",
      "|  3083854|          3.84|          Tom Wolfe|       210744|              9732|\n",
      "|    39054|          3.92|          Don Piper|        71959|              3251|\n",
      "|    11099|          3.96|      Cecil Murphey|        86128|              5313|\n",
      "|     4862|          4.29|       Randy Alcorn|        56585|              3992|\n",
      "|   137561|          3.99|   Jennifer L. Holm|       128152|             12146|\n",
      "+---------+--------------+-------------------+-------------+------------------+\n",
      "only showing top 20 rows\n",
      "\n"
     ]
    },
    {
     "name": "stderr",
     "output_type": "stream",
     "text": [
      "                                                                                \r"
     ]
    }
   ],
   "source": [
    "# Path to your .json.gz file\n",
    "file2_path = \"Resources/data/goodreads_book_authors.json.gz\"\n",
    "\n",
    "# Read the compressed JSON file into a DataFrame\n",
    "author_rating_df = spark.read.json(file2_path)\n",
    "\n",
    "# Show the first few rows to verify\n",
    "author_rating_df.show()"
   ]
  },
  {
   "cell_type": "code",
   "execution_count": 8,
   "metadata": {},
   "outputs": [],
   "source": [
    "# Drop unnecessary columns\n",
    "author_rating_df = author_rating_df.drop('name', 'ratings_count', 'text_reviews_count')"
   ]
  },
  {
   "cell_type": "code",
   "execution_count": 9,
   "metadata": {},
   "outputs": [],
   "source": [
    "# Select only the 'authors' and 'isbn13' columns from the main DataFrame\n",
    "df_authors_isbn = df.select(\"authors\", \"isbn13\")"
   ]
  },
  {
   "cell_type": "code",
   "execution_count": 10,
   "metadata": {},
   "outputs": [
    {
     "name": "stderr",
     "output_type": "stream",
     "text": [
      "[Stage 11:======================================================> (63 + 2) / 65]\r"
     ]
    },
    {
     "name": "stdout",
     "output_type": "stream",
     "text": [
      "+-------------+----------------+\n",
      "|       isbn13|unique_author_id|\n",
      "+-------------+----------------+\n",
      "|0000000067317|            1654|\n",
      "|0000195118146|          224783|\n",
      "|0000195118146|          363486|\n",
      "|0000195397916|         1842587|\n",
      "|0000262541785|          322903|\n",
      "|0000340826681|           18174|\n",
      "|0000415458250|           21233|\n",
      "|0000785116583|           10297|\n",
      "|0000785116583|           10294|\n",
      "|0000814474233|          325296|\n",
      "|0000815774141|         2020614|\n",
      "|0000847691225|         1101012|\n",
      "|0000847691225|          537802|\n",
      "|0000977316351|         1375008|\n",
      "|0001442206098|           65398|\n",
      "|0001442206098|         4623567|\n",
      "|000155206591x|          871368|\n",
      "|0001603705341|         2734991|\n",
      "|0001607061562|         3280622|\n",
      "|0001843608081|          108007|\n",
      "+-------------+----------------+\n",
      "only showing top 20 rows\n",
      "\n"
     ]
    },
    {
     "name": "stderr",
     "output_type": "stream",
     "text": [
      "                                                                                \r"
     ]
    }
   ],
   "source": [
    "# Explode the 'authors' column to create a new row for each author\n",
    "df_authors_exploded = df_authors_isbn.withColumn(\"author\", explode(\"authors\"))\n",
    "\n",
    "# Extract the author_id from the struct\n",
    "df_authors_exploded = df_authors_exploded.withColumn(\"unique_author_id\", col(\"author.author_id\"))\n",
    "df_authors_exploded = df_authors_exploded.drop(*[\"author\", \"authors\"])\n",
    "df_authors_exploded.show()"
   ]
  },
  {
   "cell_type": "code",
   "execution_count": 11,
   "metadata": {},
   "outputs": [
    {
     "name": "stderr",
     "output_type": "stream",
     "text": [
      "[Stage 15:=======================================================>(64 + 1) / 65]\r"
     ]
    },
    {
     "name": "stdout",
     "output_type": "stream",
     "text": [
      "+-------------+----------------+---------+--------------+\n",
      "|       isbn13|unique_author_id|author_id|average_rating|\n",
      "+-------------+----------------+---------+--------------+\n",
      "|0000000067317|            1654|     1654|          4.14|\n",
      "|0000195118146|          224783|   224783|          3.90|\n",
      "|0000195118146|          363486|   363486|          3.83|\n",
      "|0000195397916|         1842587|  1842587|          3.37|\n",
      "|0000262541785|          322903|   322903|          4.06|\n",
      "|0000340826681|           18174|    18174|          4.10|\n",
      "|0000415458250|           21233|    21233|          3.51|\n",
      "|0000785116583|           10297|    10297|          3.81|\n",
      "|0000785116583|           10294|    10294|          3.83|\n",
      "|0000814474233|          325296|   325296|          3.62|\n",
      "|0000815774141|         2020614|  2020614|          3.99|\n",
      "|0000847691225|         1101012|  1101012|          3.33|\n",
      "|0000847691225|          537802|   537802|          3.57|\n",
      "|0000977316351|         1375008|  1375008|          3.60|\n",
      "|0001442206098|           65398|    65398|          3.73|\n",
      "|0001442206098|         4623567|  4623567|          3.36|\n",
      "|000155206591x|          871368|   871368|          3.77|\n",
      "|0001603705341|         2734991|  2734991|          3.52|\n",
      "|0001607061562|         3280622|  3280622|          4.07|\n",
      "|0001843608081|          108007|   108007|          3.93|\n",
      "+-------------+----------------+---------+--------------+\n",
      "only showing top 20 rows\n",
      "\n"
     ]
    },
    {
     "name": "stderr",
     "output_type": "stream",
     "text": [
      "                                                                                \r"
     ]
    }
   ],
   "source": [
    "# Join with author ratings DataFrame\n",
    "df_authors_with_ratings = df_authors_exploded.join(author_rating_df, df_authors_exploded.unique_author_id == author_rating_df.author_id, \"left\")\n",
    "df_authors_with_ratings.show()"
   ]
  },
  {
   "cell_type": "code",
   "execution_count": 12,
   "metadata": {},
   "outputs": [
    {
     "name": "stderr",
     "output_type": "stream",
     "text": [
      "                                                                                \r"
     ]
    },
    {
     "name": "stdout",
     "output_type": "stream",
     "text": [
      "+-------------+-------------------+\n",
      "|       isbn13|avg(average_rating)|\n",
      "+-------------+-------------------+\n",
      "|0000000067317|               4.14|\n",
      "|0000195118146|              3.865|\n",
      "|0000195397916|               3.37|\n",
      "|0000262541785|               4.06|\n",
      "|0000340826681|                4.1|\n",
      "|0000415458250|               3.51|\n",
      "|0000785116583| 3.8200000000000003|\n",
      "|0000814474233|               3.62|\n",
      "|0000815774141|               3.99|\n",
      "|0000847691225|               3.45|\n",
      "|0000977316351|                3.6|\n",
      "|0001442206098|              3.545|\n",
      "|000155206591x|               3.77|\n",
      "|0001603705341|               3.52|\n",
      "|0001607061562|               4.07|\n",
      "|0001843608081|               3.93|\n",
      "|0008520919197|               3.97|\n",
      "|0008987035145|               4.16|\n",
      "|0008987086307|               4.35|\n",
      "|0009770168831|              3.565|\n",
      "+-------------+-------------------+\n",
      "only showing top 20 rows\n",
      "\n"
     ]
    }
   ],
   "source": [
    "# Drop author ids columns\n",
    "df_authors_with_ratings = df_authors_with_ratings.drop(*[\"author_id\", \"unique_author_id\"])\n",
    "\n",
    "# Aggregate the author ratings for each book\n",
    "df_authors_agg = df_authors_with_ratings.groupBy(\"isbn13\").agg({\"average_rating\": \"avg\"})\n",
    "df_authors_agg.show()"
   ]
  },
  {
   "cell_type": "code",
   "execution_count": 13,
   "metadata": {},
   "outputs": [
    {
     "name": "stderr",
     "output_type": "stream",
     "text": [
      "23/11/29 00:06:01 WARN MemoryStore: Not enough space to cache broadcast_35 in memory! (computed 96.0 MiB so far)\n",
      "23/11/29 00:06:01 WARN BlockManager: Persisting block broadcast_35 to disk instead.\n",
      "[Stage 27:>                                                         (0 + 1) / 1]\r"
     ]
    },
    {
     "name": "stdout",
     "output_type": "stream",
     "text": [
      "+-------------+--------------------+--------------+-------+--------------------+---------+--------------------+----------------+-------------+----------------+------------------+-------------------+\n",
      "|       isbn13|             authors|average_rating|book_id|              format|num_pages|     popular_shelves|publication_year|ratings_count|          series|text_reviews_count|avg(average_rating)|\n",
      "+-------------+--------------------+--------------+-------+--------------------+---------+--------------------+----------------+-------------+----------------+------------------+-------------------+\n",
      "|0000814474233|        [{325296, }]|          3.62| 598454|           Hardcover|      220|[{154, to-read}, ...|            2007|           97|              []|                19|               3.62|\n",
      "|0008520919197|        [{123715, }]|          4.07|3623612|           Paperback|      288|[{2944, mystery},...|            2006|           21|[227086, 356197]|                 2|               3.97|\n",
      "|0009773781771|       [{1479015, }]|          3.68|6052114|           Paperback|      291|[{585, to-read}, ...|            2008|         1591|        [243571]|                52|               3.66|\n",
      "|0009792204458|          [{6218, }]|          3.55|2918713|Mass Market Paper...|      248|[{984, to-read}, ...|            2003|           68|              []|                10|               3.89|\n",
      "|0009796865300|        [{171159, }]|           3.0|3005713|           Paperback|      256|[{21, to-read}, {...|            2001|           33|              []|                 1|               3.55|\n",
      "|0020049036464|          [{5544, }]|          3.75|1398340|           Paperback|      160|[{461, to-read}, ...|            1998|         1121|        [156947]|                20|               4.07|\n",
      "|0020049070222|[{1680, }, {57831...|          3.87|  56101|           Paperback|      175|[{61, to-read}, {...|            1999|           97|              []|                13|              3.835|\n",
      "|0021898130853|[{294872, }, {552...|          3.65| 533569|           Paperback|      174|[{81, to-read}, {...|            1993|           71|        [851150]|                 2|               3.74|\n",
      "|0023755077226|[{68, }, {538660, }]|          3.47| 183604|           Paperback|      224|[{38, to-read}, {...|            2001|           15|              []|                 1|              4.255|\n",
      "|0023755077899|          [{2737, }]|          4.31| 696587|           Paperback|      208|[{207, to-read}, ...|            2002|          172|              []|                 5|               4.34|\n",
      "|0025986210915|[{55065, }, {2488...|          3.83| 786260|           Paperback|      208|[{59, to-read}, {...|            1997|           54|              []|                11| 3.8099999999999996|\n",
      "|0025986232290|         [{15394, }]|           3.9|  27444|           Hardcover|      336|[{48, to-read}, {...|            2000|           96|              []|                 9|               4.21|\n",
      "|0025986236601|        [{159833, }]|           4.0| 489798|           Paperback|      112|[{12, to-read}, {...|            2001|           18|              []|                 4|               4.52|\n",
      "|0025986347017|        [{186712, }]|          4.07| 609181|           Paperback|      212|[{47, christian-l...|            1973|           12|              []|                 2|               3.74|\n",
      "|0031809029169|[{7625163, }, {15...|          3.97|1953659|           Hardcover|      403|[{5143, to-read},...|            1999|          213|        [186765]|                17| 3.9450000000000003|\n",
      "|0031809055007|[{3521078, }, {39...|           4.1| 402191|           Paperback|      480|[{301, to-read}, ...|            2000|          402|        [251960]|                26|               4.13|\n",
      "|0073999309836|[{465474, }, {162...|          4.32| 909640|           Hardcover|      208|[{24, to-read}, {...|            2002|           19|              []|                 2| 4.1850000000000005|\n",
      "|0073999461992|[{50412, Editor},...|          3.55| 293196|           Paperback|      320|[{36, to-read}, {...|            2000|           32|              []|                 5|               3.94|\n",
      "|0600835076128|       [{7075447, }]|          4.31|  83359|            Audio CD|        9|[{37, to-read}, {...|            2003|           32|              []|                 5|               4.26|\n",
      "|0612608449060|            [{68, }]|          3.94| 353220|           Paperback|      156|[{250, currently-...|            2002|          584|              []|                50|               4.16|\n",
      "+-------------+--------------------+--------------+-------+--------------------+---------+--------------------+----------------+-------------+----------------+------------------+-------------------+\n",
      "only showing top 20 rows\n",
      "\n"
     ]
    },
    {
     "name": "stderr",
     "output_type": "stream",
     "text": [
      "                                                                                \r"
     ]
    }
   ],
   "source": [
    "# Join the authors average rating with the main DataFrame\n",
    "df = df.join(df_authors_agg, \"isbn13\", \"left\")\n",
    "df.show()"
   ]
  },
  {
   "cell_type": "code",
   "execution_count": 14,
   "metadata": {},
   "outputs": [
    {
     "name": "stderr",
     "output_type": "stream",
     "text": [
      "[Stage 30:======================================================> (63 + 2) / 65]\r"
     ]
    },
    {
     "name": "stdout",
     "output_type": "stream",
     "text": [
      "+-------------+--------------+--------+---------+---------+----------------+-------------+------------------+---------------------+\n",
      "|       isbn13|average_rating| book_id|   format|num_pages|publication_year|ratings_count|text_reviews_count|author_average_rating|\n",
      "+-------------+--------------+--------+---------+---------+----------------+-------------+------------------+---------------------+\n",
      "|0000000067317|          4.36| 2745937| Hardback|      298|            1994|           27|                 2|                 4.14|\n",
      "|0000195118146|          3.75|  679038|Paperback|      448|            1997|           44|                 4|                3.865|\n",
      "|0000195397916|          3.32| 7272274|Hardcover|      208|            2010|           86|                15|                 3.37|\n",
      "|0000262541785|          4.06|  593335|Paperback|      233|            2004|          138|                11|                 4.06|\n",
      "|0000340826681|          4.09|  332824|Paperback|      288|            2004|           32|                 2|                  4.1|\n",
      "|0000415458250|          3.41| 4670088|Paperback|      241|            2008|           23|                 2|                 3.51|\n",
      "|0000785116583|          3.82| 2299465|Paperback|      152|            2005|           83|                 5|   3.8200000000000003|\n",
      "|0000814474233|          3.62|  598454|Hardcover|      220|            2007|           97|                19|                 3.62|\n",
      "|0000815774141|           4.1| 4855148|Hardcover|      224|            2008|           76|                12|                 3.99|\n",
      "|0000847691225|          3.23|  544422|Paperback|      112|            2000|           28|                 4|                 3.45|\n",
      "|0000977316351|          3.99| 6163840|Paperback|      714|            1960|          331|                28|                  3.6|\n",
      "|0001442206098|          3.36|10381319|Hardcover|      147|            2011|           48|                13|                3.545|\n",
      "|000155206591x|          3.44| 3495926|Paperback|      144|            1991|          354|                30|                 3.77|\n",
      "|0001603705341|          3.83| 6093031|    ebook|       30|            2008|           31|                 4|                 3.52|\n",
      "|0001607061562|          3.86| 7457622|Paperback|      128|            2009|           92|                16|                 4.07|\n",
      "|0001843608081|          3.86| 3472569|    ebook|        0|            2008|          100|                 5|                 3.93|\n",
      "|0008520919197|          4.07| 3623612|Paperback|      288|            2006|           21|                 2|                 3.97|\n",
      "|0008987035145|           4.2|  433347|Paperback|      280|            1991|          231|                13|                 4.16|\n",
      "|0008987086307|          4.25| 1776757|Paperback|      250|            2002|           14|                 1|                 4.35|\n",
      "|0009770168831|          3.76| 5954494|Paperback|      407|            2000|           64|                24|                3.565|\n",
      "+-------------+--------------+--------+---------+---------+----------------+-------------+------------------+---------------------+\n",
      "only showing top 20 rows\n",
      "\n"
     ]
    },
    {
     "name": "stderr",
     "output_type": "stream",
     "text": [
      "                                                                                \r"
     ]
    }
   ],
   "source": [
    "# Drop unnecessary columns\n",
    "df = df.drop(*[\"authors\", \"popular_shelves\", \"series\"])\n",
    "\n",
    "# Rename the columns\n",
    "df = df.withColumnRenamed(\"avg(average_rating)\", \"author_average_rating\") \\\n",
    "    .withColumnRenamed(\"total_to_read_count\", \"to_read_count\")\n",
    "\n",
    "df.show()"
   ]
  },
  {
   "cell_type": "code",
   "execution_count": 15,
   "metadata": {},
   "outputs": [
    {
     "name": "stderr",
     "output_type": "stream",
     "text": [
      "23/11/29 00:08:21 WARN RowBasedKeyValueBatch: Calling spill() on RowBasedKeyValueBatch. Will not spill but return 0.\n",
      "23/11/29 00:08:21 WARN RowBasedKeyValueBatch: Calling spill() on RowBasedKeyValueBatch. Will not spill but return 0.\n",
      "23/11/29 00:08:21 WARN RowBasedKeyValueBatch: Calling spill() on RowBasedKeyValueBatch. Will not spill but return 0.\n",
      "23/11/29 00:08:21 WARN RowBasedKeyValueBatch: Calling spill() on RowBasedKeyValueBatch. Will not spill but return 0.\n",
      "23/11/29 00:08:21 WARN RowBasedKeyValueBatch: Calling spill() on RowBasedKeyValueBatch. Will not spill but return 0.\n",
      "23/11/29 00:08:21 WARN RowBasedKeyValueBatch: Calling spill() on RowBasedKeyValueBatch. Will not spill but return 0.\n",
      "23/11/29 00:08:21 WARN RowBasedKeyValueBatch: Calling spill() on RowBasedKeyValueBatch. Will not spill but return 0.\n",
      "23/11/29 00:08:21 WARN RowBasedKeyValueBatch: Calling spill() on RowBasedKeyValueBatch. Will not spill but return 0.\n",
      "                                                                                \r"
     ]
    }
   ],
   "source": [
    "# Extract a sample of the DataFrame\n",
    "df_sample = df.sample(False, 0.1, seed=42)\n",
    "df_sample_pandas = df_sample.toPandas()\n",
    "df_sample_pandas.to_csv(\"../../Resources/panda_df/books_sample_trial2.csv\", index=False)"
   ]
  },
  {
   "cell_type": "code",
   "execution_count": 16,
   "metadata": {},
   "outputs": [],
   "source": [
    "spark.stop()"
   ]
  }
 ],
 "metadata": {
  "kernelspec": {
   "display_name": "dev",
   "language": "python",
   "name": "python3"
  },
  "language_info": {
   "codemirror_mode": {
    "name": "ipython",
    "version": 3
   },
   "file_extension": ".py",
   "mimetype": "text/x-python",
   "name": "python",
   "nbconvert_exporter": "python",
   "pygments_lexer": "ipython3",
   "version": "3.10.13"
  },
  "orig_nbformat": 4
 },
 "nbformat": 4,
 "nbformat_minor": 2
}
