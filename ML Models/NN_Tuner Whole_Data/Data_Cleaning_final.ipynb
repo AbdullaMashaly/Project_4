{
 "cells": [
  {
   "cell_type": "code",
   "execution_count": 22,
   "metadata": {},
   "outputs": [],
   "source": [
    "# Import Dependencies\n",
    "import pandas as pd\n",
    "\n",
    "from pyspark.sql import SparkSession\n",
    "from pyspark.sql.types import IntegerType, FloatType\n",
    "from pyspark.sql.functions import col, explode, when, sum, size\n",
    "\n",
    "# Initialize Spark Session\n",
    "spark = SparkSession.builder.appName(\"BookRatingDataCleaning\").getOrCreate()"
   ]
  },
  {
   "cell_type": "code",
   "execution_count": 23,
   "metadata": {},
   "outputs": [
    {
     "name": "stdout",
     "output_type": "stream",
     "text": [
      "+-------------+--------------+--------+---------+---------+----------------+-------------+------------------+---------------------+\n",
      "|       isbn13|average_rating| book_id|   format|num_pages|publication_year|ratings_count|text_reviews_count|author_average_rating|\n",
      "+-------------+--------------+--------+---------+---------+----------------+-------------+------------------+---------------------+\n",
      "|0000000067317|          4.36| 2745937| Hardback|      298|            1994|           27|                 2|                 4.14|\n",
      "|0000195118146|          3.75|  679038|Paperback|      448|            1997|           44|                 4|                3.865|\n",
      "|0000195397916|          3.32| 7272274|Hardcover|      208|            2010|           86|                15|                 3.37|\n",
      "|0000262541785|          4.06|  593335|Paperback|      233|            2004|          138|                11|                 4.06|\n",
      "|0000340826681|          4.09|  332824|Paperback|      288|            2004|           32|                 2|                  4.1|\n",
      "|0000415458250|          3.41| 4670088|Paperback|      241|            2008|           23|                 2|                 3.51|\n",
      "|0000785116583|          3.82| 2299465|Paperback|      152|            2005|           83|                 5|   3.8200000000000003|\n",
      "|0000814474233|          3.62|  598454|Hardcover|      220|            2007|           97|                19|                 3.62|\n",
      "|0000815774141|           4.1| 4855148|Hardcover|      224|            2008|           76|                12|                 3.99|\n",
      "|0000847691225|          3.23|  544422|Paperback|      112|            2000|           28|                 4|                 3.45|\n",
      "|0000977316351|          3.99| 6163840|Paperback|      714|            1960|          331|                28|                  3.6|\n",
      "|0001442206098|          3.36|10381319|Hardcover|      147|            2011|           48|                13|                3.545|\n",
      "|000155206591x|          3.44| 3495926|Paperback|      144|            1991|          354|                30|                 3.77|\n",
      "|0001603705341|          3.83| 6093031|    ebook|       30|            2008|           31|                 4|                 3.52|\n",
      "|0001607061562|          3.86| 7457622|Paperback|      128|            2009|           92|                16|                 4.07|\n",
      "|0001843608081|          3.86| 3472569|    ebook|        0|            2008|          100|                 5|                 3.93|\n",
      "|0008520919197|          4.07| 3623612|Paperback|      288|            2006|           21|                 2|                 3.97|\n",
      "|0008987035145|           4.2|  433347|Paperback|      280|            1991|          231|                13|                 4.16|\n",
      "|0008987086307|          4.25| 1776757|Paperback|      250|            2002|           14|                 1|                 4.35|\n",
      "|0009770168831|          3.76| 5954494|Paperback|      407|            2000|           64|                24|                3.565|\n",
      "+-------------+--------------+--------+---------+---------+----------------+-------------+------------------+---------------------+\n",
      "only showing top 20 rows\n",
      "\n"
     ]
    }
   ],
   "source": [
    "# Read in data\n",
    "df = spark.read.csv('../../Resources/panda_df/books_cleaned_final.csv', header=True)\n",
    "df.show()"
   ]
  },
  {
   "cell_type": "code",
   "execution_count": 24,
   "metadata": {},
   "outputs": [
    {
     "name": "stdout",
     "output_type": "stream",
     "text": [
      "root\n",
      " |-- isbn13: string (nullable = true)\n",
      " |-- average_rating: string (nullable = true)\n",
      " |-- book_id: string (nullable = true)\n",
      " |-- format: string (nullable = true)\n",
      " |-- num_pages: string (nullable = true)\n",
      " |-- publication_year: string (nullable = true)\n",
      " |-- ratings_count: string (nullable = true)\n",
      " |-- text_reviews_count: string (nullable = true)\n",
      " |-- author_average_rating: string (nullable = true)\n",
      "\n"
     ]
    }
   ],
   "source": [
    "df.printSchema()"
   ]
  },
  {
   "cell_type": "code",
   "execution_count": 25,
   "metadata": {},
   "outputs": [
    {
     "data": {
      "text/plain": [
       "838200"
      ]
     },
     "execution_count": 25,
     "metadata": {},
     "output_type": "execute_result"
    }
   ],
   "source": [
    "df.count()"
   ]
  },
  {
   "cell_type": "code",
   "execution_count": 26,
   "metadata": {},
   "outputs": [
    {
     "data": {
      "text/html": [
       "<div>\n",
       "<style scoped>\n",
       "    .dataframe tbody tr th:only-of-type {\n",
       "        vertical-align: middle;\n",
       "    }\n",
       "\n",
       "    .dataframe tbody tr th {\n",
       "        vertical-align: top;\n",
       "    }\n",
       "\n",
       "    .dataframe thead th {\n",
       "        text-align: right;\n",
       "    }\n",
       "</style>\n",
       "<table border=\"1\" class=\"dataframe\">\n",
       "  <thead>\n",
       "    <tr style=\"text-align: right;\">\n",
       "      <th></th>\n",
       "      <th>isbn13</th>\n",
       "      <th>average_rating</th>\n",
       "      <th>book_id</th>\n",
       "      <th>format</th>\n",
       "      <th>num_pages</th>\n",
       "      <th>publication_year</th>\n",
       "      <th>ratings_count</th>\n",
       "      <th>text_reviews_count</th>\n",
       "      <th>author_average_rating</th>\n",
       "    </tr>\n",
       "  </thead>\n",
       "  <tbody>\n",
       "    <tr>\n",
       "      <th>0</th>\n",
       "      <td>0000000067317</td>\n",
       "      <td>4.36</td>\n",
       "      <td>2745937</td>\n",
       "      <td>Hardback</td>\n",
       "      <td>298</td>\n",
       "      <td>1994</td>\n",
       "      <td>27</td>\n",
       "      <td>2</td>\n",
       "      <td>4.14</td>\n",
       "    </tr>\n",
       "    <tr>\n",
       "      <th>1</th>\n",
       "      <td>0000195118146</td>\n",
       "      <td>3.75</td>\n",
       "      <td>679038</td>\n",
       "      <td>Paperback</td>\n",
       "      <td>448</td>\n",
       "      <td>1997</td>\n",
       "      <td>44</td>\n",
       "      <td>4</td>\n",
       "      <td>3.865</td>\n",
       "    </tr>\n",
       "    <tr>\n",
       "      <th>2</th>\n",
       "      <td>0000195397916</td>\n",
       "      <td>3.32</td>\n",
       "      <td>7272274</td>\n",
       "      <td>Hardcover</td>\n",
       "      <td>208</td>\n",
       "      <td>2010</td>\n",
       "      <td>86</td>\n",
       "      <td>15</td>\n",
       "      <td>3.37</td>\n",
       "    </tr>\n",
       "    <tr>\n",
       "      <th>3</th>\n",
       "      <td>0000262541785</td>\n",
       "      <td>4.06</td>\n",
       "      <td>593335</td>\n",
       "      <td>Paperback</td>\n",
       "      <td>233</td>\n",
       "      <td>2004</td>\n",
       "      <td>138</td>\n",
       "      <td>11</td>\n",
       "      <td>4.06</td>\n",
       "    </tr>\n",
       "    <tr>\n",
       "      <th>4</th>\n",
       "      <td>0000340826681</td>\n",
       "      <td>4.09</td>\n",
       "      <td>332824</td>\n",
       "      <td>Paperback</td>\n",
       "      <td>288</td>\n",
       "      <td>2004</td>\n",
       "      <td>32</td>\n",
       "      <td>2</td>\n",
       "      <td>4.1</td>\n",
       "    </tr>\n",
       "  </tbody>\n",
       "</table>\n",
       "</div>"
      ],
      "text/plain": [
       "          isbn13 average_rating  book_id     format num_pages  \\\n",
       "0  0000000067317           4.36  2745937   Hardback       298   \n",
       "1  0000195118146           3.75   679038  Paperback       448   \n",
       "2  0000195397916           3.32  7272274  Hardcover       208   \n",
       "3  0000262541785           4.06   593335  Paperback       233   \n",
       "4  0000340826681           4.09   332824  Paperback       288   \n",
       "\n",
       "  publication_year ratings_count text_reviews_count author_average_rating  \n",
       "0             1994            27                  2                  4.14  \n",
       "1             1997            44                  4                 3.865  \n",
       "2             2010            86                 15                  3.37  \n",
       "3             2004           138                 11                  4.06  \n",
       "4             2004            32                  2                   4.1  "
      ]
     },
     "execution_count": 26,
     "metadata": {},
     "output_type": "execute_result"
    }
   ],
   "source": [
    "# Change dataframe to pandas dataframe\n",
    "books_df = df.toPandas()\n",
    "books_df.head()"
   ]
  },
  {
   "cell_type": "code",
   "execution_count": 27,
   "metadata": {},
   "outputs": [
    {
     "name": "stdout",
     "output_type": "stream",
     "text": [
      "<class 'pandas.core.frame.DataFrame'>\n",
      "RangeIndex: 838200 entries, 0 to 838199\n",
      "Data columns (total 9 columns):\n",
      " #   Column                 Non-Null Count   Dtype \n",
      "---  ------                 --------------   ----- \n",
      " 0   isbn13                 838200 non-null  object\n",
      " 1   average_rating         838200 non-null  object\n",
      " 2   book_id                838200 non-null  object\n",
      " 3   format                 838200 non-null  object\n",
      " 4   num_pages              838200 non-null  object\n",
      " 5   publication_year       838200 non-null  object\n",
      " 6   ratings_count          838200 non-null  object\n",
      " 7   text_reviews_count     838200 non-null  object\n",
      " 8   author_average_rating  838200 non-null  object\n",
      "dtypes: object(9)\n",
      "memory usage: 57.6+ MB\n"
     ]
    }
   ],
   "source": [
    "books_df.info()"
   ]
  },
  {
   "cell_type": "code",
   "execution_count": 28,
   "metadata": {},
   "outputs": [
    {
     "data": {
      "text/plain": [
       "0"
      ]
     },
     "execution_count": 28,
     "metadata": {},
     "output_type": "execute_result"
    }
   ],
   "source": [
    "# Check for null values\n",
    "books_df.value_counts().isnull().sum()"
   ]
  },
  {
   "cell_type": "code",
   "execution_count": 29,
   "metadata": {},
   "outputs": [
    {
     "name": "stdout",
     "output_type": "stream",
     "text": [
      "<class 'pandas.core.frame.DataFrame'>\n",
      "RangeIndex: 838200 entries, 0 to 838199\n",
      "Data columns (total 9 columns):\n",
      " #   Column                 Non-Null Count   Dtype  \n",
      "---  ------                 --------------   -----  \n",
      " 0   isbn13                 838200 non-null  object \n",
      " 1   average_rating         838200 non-null  float32\n",
      " 2   book_id                838200 non-null  object \n",
      " 3   format                 838200 non-null  object \n",
      " 4   num_pages              838200 non-null  int32  \n",
      " 5   publication_year       838200 non-null  int32  \n",
      " 6   ratings_count          838200 non-null  int32  \n",
      " 7   text_reviews_count     838200 non-null  int32  \n",
      " 8   author_average_rating  838200 non-null  float32\n",
      "dtypes: float32(2), int32(4), object(3)\n",
      "memory usage: 38.4+ MB\n"
     ]
    }
   ],
   "source": [
    "# Change data types\n",
    "# Convert columns to numeric, coercing errors to NaN\n",
    "books_df['num_pages'] = pd.to_numeric(books_df['num_pages'], errors='coerce')\n",
    "books_df['publication_year'] = pd.to_numeric(books_df['publication_year'], errors='coerce')\n",
    "books_df['ratings_count'] = pd.to_numeric(books_df['ratings_count'], errors='coerce')\n",
    "books_df['text_reviews_count'] = pd.to_numeric(books_df['text_reviews_count'], errors='coerce')\n",
    "\n",
    "books_df['average_rating'] = pd.to_numeric(books_df['average_rating'], errors='coerce')\n",
    "books_df['author_average_rating'] = pd.to_numeric(books_df['author_average_rating'], errors='coerce')\n",
    "\n",
    "# Drop rows with NaN values in these columns\n",
    "books_df = books_df.dropna(subset=['num_pages', 'publication_year', 'ratings_count', 'text_reviews_count', 'average_rating', 'author_average_rating'])\n",
    "\n",
    "# Convert columns to integer\n",
    "books_df = books_df.astype({'num_pages': 'int32', 'publication_year': 'int32', 'ratings_count': 'int32',\n",
    "                            'text_reviews_count': 'int32'})\n",
    "\n",
    "clean_df = books_df.astype({'average_rating': 'float32', 'author_average_rating': 'float32'})\n",
    "\n",
    "clean_df.info()"
   ]
  },
  {
   "cell_type": "code",
   "execution_count": 30,
   "metadata": {},
   "outputs": [
    {
     "data": {
      "text/html": [
       "<div>\n",
       "<style scoped>\n",
       "    .dataframe tbody tr th:only-of-type {\n",
       "        vertical-align: middle;\n",
       "    }\n",
       "\n",
       "    .dataframe tbody tr th {\n",
       "        vertical-align: top;\n",
       "    }\n",
       "\n",
       "    .dataframe thead th {\n",
       "        text-align: right;\n",
       "    }\n",
       "</style>\n",
       "<table border=\"1\" class=\"dataframe\">\n",
       "  <thead>\n",
       "    <tr style=\"text-align: right;\">\n",
       "      <th></th>\n",
       "      <th>average_rating</th>\n",
       "      <th>num_pages</th>\n",
       "      <th>publication_year</th>\n",
       "      <th>ratings_count</th>\n",
       "      <th>text_reviews_count</th>\n",
       "      <th>author_average_rating</th>\n",
       "    </tr>\n",
       "  </thead>\n",
       "  <tbody>\n",
       "    <tr>\n",
       "      <th>count</th>\n",
       "      <td>838200.000000</td>\n",
       "      <td>838200.000000</td>\n",
       "      <td>838200.000000</td>\n",
       "      <td>8.382000e+05</td>\n",
       "      <td>838200.000000</td>\n",
       "      <td>838200.000000</td>\n",
       "    </tr>\n",
       "    <tr>\n",
       "      <th>mean</th>\n",
       "      <td>3.861705</td>\n",
       "      <td>277.535141</td>\n",
       "      <td>2007.252286</td>\n",
       "      <td>7.892949e+02</td>\n",
       "      <td>51.917733</td>\n",
       "      <td>3.890093</td>\n",
       "    </tr>\n",
       "    <tr>\n",
       "      <th>std</th>\n",
       "      <td>0.361214</td>\n",
       "      <td>162.985440</td>\n",
       "      <td>8.980084</td>\n",
       "      <td>1.730399e+04</td>\n",
       "      <td>571.329012</td>\n",
       "      <td>0.275013</td>\n",
       "    </tr>\n",
       "    <tr>\n",
       "      <th>min</th>\n",
       "      <td>1.000000</td>\n",
       "      <td>0.000000</td>\n",
       "      <td>1901.000000</td>\n",
       "      <td>1.000000e+01</td>\n",
       "      <td>0.000000</td>\n",
       "      <td>1.000000</td>\n",
       "    </tr>\n",
       "    <tr>\n",
       "      <th>25%</th>\n",
       "      <td>3.650000</td>\n",
       "      <td>176.000000</td>\n",
       "      <td>2004.000000</td>\n",
       "      <td>2.200000e+01</td>\n",
       "      <td>4.000000</td>\n",
       "      <td>3.740000</td>\n",
       "    </tr>\n",
       "    <tr>\n",
       "      <th>50%</th>\n",
       "      <td>3.880000</td>\n",
       "      <td>264.000000</td>\n",
       "      <td>2010.000000</td>\n",
       "      <td>5.100000e+01</td>\n",
       "      <td>8.000000</td>\n",
       "      <td>3.900000</td>\n",
       "    </tr>\n",
       "    <tr>\n",
       "      <th>75%</th>\n",
       "      <td>4.110000</td>\n",
       "      <td>356.000000</td>\n",
       "      <td>2013.000000</td>\n",
       "      <td>1.580000e+02</td>\n",
       "      <td>22.000000</td>\n",
       "      <td>4.060000</td>\n",
       "    </tr>\n",
       "    <tr>\n",
       "      <th>max</th>\n",
       "      <td>5.000000</td>\n",
       "      <td>1500.000000</td>\n",
       "      <td>2021.000000</td>\n",
       "      <td>4.899965e+06</td>\n",
       "      <td>142645.000000</td>\n",
       "      <td>5.000000</td>\n",
       "    </tr>\n",
       "  </tbody>\n",
       "</table>\n",
       "</div>"
      ],
      "text/plain": [
       "       average_rating      num_pages  publication_year  ratings_count  \\\n",
       "count   838200.000000  838200.000000     838200.000000   8.382000e+05   \n",
       "mean         3.861705     277.535141       2007.252286   7.892949e+02   \n",
       "std          0.361214     162.985440          8.980084   1.730399e+04   \n",
       "min          1.000000       0.000000       1901.000000   1.000000e+01   \n",
       "25%          3.650000     176.000000       2004.000000   2.200000e+01   \n",
       "50%          3.880000     264.000000       2010.000000   5.100000e+01   \n",
       "75%          4.110000     356.000000       2013.000000   1.580000e+02   \n",
       "max          5.000000    1500.000000       2021.000000   4.899965e+06   \n",
       "\n",
       "       text_reviews_count  author_average_rating  \n",
       "count       838200.000000          838200.000000  \n",
       "mean            51.917733               3.890093  \n",
       "std            571.329012               0.275013  \n",
       "min              0.000000               1.000000  \n",
       "25%              4.000000               3.740000  \n",
       "50%              8.000000               3.900000  \n",
       "75%             22.000000               4.060000  \n",
       "max         142645.000000               5.000000  "
      ]
     },
     "execution_count": 30,
     "metadata": {},
     "output_type": "execute_result"
    }
   ],
   "source": [
    "clean_df.describe()"
   ]
  },
  {
   "cell_type": "code",
   "execution_count": 31,
   "metadata": {},
   "outputs": [
    {
     "data": {
      "text/plain": [
       "Paperback                         516886\n",
       "Hardcover                         212023\n",
       "ebook                              57702\n",
       "Mass Market Paperback              25353\n",
       "Audio CD                            8573\n",
       "                                   ...  \n",
       "Poetry Chapbook                        1\n",
       "Hardcover, 11&quot; x 11&quot;         1\n",
       "magazine                               1\n",
       "Paperback &amp; Hard cover             1\n",
       "Leather-finish bound                   1\n",
       "Name: format, Length: 640, dtype: int64"
      ]
     },
     "execution_count": 31,
     "metadata": {},
     "output_type": "execute_result"
    }
   ],
   "source": [
    "clean_df['format'].value_counts()"
   ]
  },
  {
   "cell_type": "code",
   "execution_count": 32,
   "metadata": {},
   "outputs": [
    {
     "data": {
      "text/plain": [
       "Paperback    516886\n",
       "Hardcover    212023\n",
       "ebook         57702\n",
       "other         51589\n",
       "Name: format, dtype: int64"
      ]
     },
     "execution_count": 32,
     "metadata": {},
     "output_type": "execute_result"
    }
   ],
   "source": [
    "# Change unpoupular formats to 'other'\n",
    "clean_df.loc[(clean_df['format'] != 'Paperback') & (clean_df['format'] != 'Hardcover') & (clean_df['format'] != 'ebook'), 'format'] = 'other'\n",
    "clean_df['format'].value_counts()"
   ]
  },
  {
   "cell_type": "code",
   "execution_count": 33,
   "metadata": {},
   "outputs": [],
   "source": [
    "# Export dataframe to csv\n",
    "clean_df.to_csv('../../Resources/panda_df/books_cleaned_sampleFinal1.csv', index=False)"
   ]
  }
 ],
 "metadata": {
  "kernelspec": {
   "display_name": "dev",
   "language": "python",
   "name": "python3"
  },
  "language_info": {
   "codemirror_mode": {
    "name": "ipython",
    "version": 3
   },
   "file_extension": ".py",
   "mimetype": "text/x-python",
   "name": "python",
   "nbconvert_exporter": "python",
   "pygments_lexer": "ipython3",
   "version": "3.10.13"
  },
  "orig_nbformat": 4
 },
 "nbformat": 4,
 "nbformat_minor": 2
}
