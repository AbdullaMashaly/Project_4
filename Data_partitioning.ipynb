{
 "cells": [
  {
   "cell_type": "code",
   "execution_count": 1,
   "metadata": {},
   "outputs": [
    {
     "name": "stderr",
     "output_type": "stream",
     "text": [
      "Setting default log level to \"WARN\".\n",
      "To adjust logging level use sc.setLogLevel(newLevel). For SparkR, use setLogLevel(newLevel).\n",
      "23/11/29 02:29:35 WARN NativeCodeLoader: Unable to load native-hadoop library for your platform... using builtin-java classes where applicable\n"
     ]
    }
   ],
   "source": [
    "# Import Dependencies\n",
    "from pyspark.sql import SparkSession\n",
    "\n",
    "# Initialize Spark Session\n",
    "spark = SparkSession.builder.appName(\"DataPartitions\").getOrCreate()"
   ]
  },
  {
   "cell_type": "code",
   "execution_count": 2,
   "metadata": {},
   "outputs": [
    {
     "name": "stderr",
     "output_type": "stream",
     "text": [
      "23/11/29 02:30:32 WARN SparkStringUtils: Truncated the string representation of a plan since it was too large. This behavior can be adjusted by setting 'spark.sql.debug.maxToStringFields'.\n"
     ]
    },
    {
     "name": "stdout",
     "output_type": "stream",
     "text": [
      "+----------+--------------------+--------------+--------+------------+--------------------+-------------------+---------+--------------------+--------+----------+-------------+-----------+-------------+--------------------+---------+--------------------+---------------+-----------------+----------------+--------------------+-------------+---------+--------------------+------------------+--------------------+--------------------+--------------------+--------+\n",
      "|      asin|             authors|average_rating| book_id|country_code|         description|edition_information|   format|           image_url|is_ebook|      isbn|       isbn13|kindle_asin|language_code|                link|num_pages|     popular_shelves|publication_day|publication_month|publication_year|           publisher|ratings_count|   series|       similar_books|text_reviews_count|               title|title_without_series|                 url| work_id|\n",
      "+----------+--------------------+--------------+--------+------------+--------------------+-------------------+---------+--------------------+--------+----------+-------------+-----------+-------------+--------------------+---------+--------------------+---------------+-----------------+----------------+--------------------+-------------+---------+--------------------+------------------+--------------------+--------------------+--------------------+--------+\n",
      "|          |        [{604031, }]|          4.00| 5333265|          US|                    |                   |Paperback|https://images.gr...|   false|0312853122|9780312853129|           |             |https://www.goodr...|      256|[{3, to-read}, {1...|              1|                9|            1984|  St. Martin's Press|            3|       []|                  []|                 1|W.C. Fields: A Li...|W.C. Fields: A Li...|https://www.goodr...| 5400751|\n",
      "|          |        [{626222, }]|          3.23| 1333909|          US|Anita Diamant's i...|           Abridged| Audio CD|https://s.gr-asse...|   false|0743509986|9780743509985| B000FC0PBC|             |https://www.goodr...|         |[{2634, to-read},...|              1|               10|            2001|Simon & Schuster ...|           10|       []|[8709549, 1707405...|                 6|         Good Harbor|         Good Harbor|https://www.goodr...| 1323437|\n",
      "|B00071IKUY|         [{10333, }]|          4.03| 7327624|          US|Omnibus book club...|  Book Club Edition|Hardcover|https://images.gr...|   false|          |             |           |          eng|https://www.goodr...|      600|[{58, to-read}, {...|               |                 |            1987|Nelson Doubleday,...|          140| [189911]|[19997, 828466, 1...|                 7|The Unschooled Wi...|The Unschooled Wi...|https://www.goodr...| 8948723|\n",
      "|          |          [{9212, }]|          3.49| 6066819|          US|Addie Downs and V...|                   |Hardcover|https://s.gr-asse...|   false|0743294297|9780743294294| B002ENBLOK|          eng|https://www.goodr...|      368|[{7615, to-read},...|             14|                7|            2009|         Atria Books|        51184|       []|[6604176, 6054190...|              3282|Best Friends Forever|Best Friends Forever|https://www.goodr...| 6243154|\n",
      "|          |        [{149918, }]|          3.40|  287140|          US|                    |                   |         |https://images.gr...|   false|0850308712|9780850308716|           |             |https://www.goodr...|         |[{32, to-read}, {...|               |                 |                |                    |           15|       []|                  []|                 5|Runic Astrology: ...|Runic Astrology: ...|https://www.goodr...|  278577|\n",
      "|          |       [{3041852, }]|          4.13|  287141|          US|Relates in vigoro...|                   |Paperback|https://s.gr-asse...|   false|1599150603|9781599150604| B00DU10PUG|             |https://www.goodr...|      162|[{56, to-read}, {...|             13|                9|            2006|Yesterday's Classics|           46|       []|                  []|                 7|The Aeneid for Bo...|The Aeneid for Bo...|https://www.goodr...|  278578|\n",
      "|          |        [{215594, }]|          4.38|  378460|          US|                    |                   |Paperback|https://s.gr-asse...|   false|0425040887|9780425040881|           |             |https://www.goodr...|         |[{14, to-read}, {...|              1|                3|            1979|Berkley Publishin...|           12|       []|                  []|                 4|The Wanting of Le...|The Wanting of Le...|https://www.goodr...|  368291|\n",
      "|          |         [{19158, }]|          4.22| 6066812|          US|To Kara's astonis...|                   |Paperback|https://images.gr...|   false|1934876569|9781934876565|           |             |https://www.goodr...|      216|[{515, to-read}, ...|              3|                3|            2009|          Seven Seas|           98| [151854]|[948696, 439885, ...|                 6|All's Fairy in Lo...|All's Fairy in Lo...|https://www.goodr...|  701117|\n",
      "|          |       [{5807700, }]|          3.86|34883016|          US|Secrets. Sometime...|                   |    ebook|https://images.gr...|    true|          |9781370889471|           |             |https://www.goodr...|         |[{4, to-read}, {1...|              3|                5|            2017|Gone Writing Publ...|            5|       []|                  []|                 4|Playmaker: A Veno...|Playmaker: A Veno...|https://www.goodr...|56135087|\n",
      "|          |[{2983296, }, {40...|          3.81|  287149|          US|Wisdom, humor, an...|                   |Paperback|https://images.gr...|   false|0922915113|9780922915118| B00AFYVB8Q|             |https://www.goodr...|      147|[{961, to-read}, ...|              1|                4|            2000|         Feral House|          986|       []|[287151, 1104760,...|                39|The Devil's Notebook|The Devil's Notebook|https://www.goodr...|  278586|\n",
      "|          |         [{37778, }]|          3.93| 6066814|          US|London, 1196. At ...|                   |Hardcover|https://images.gr...|   false|184737297X|9781847372970| B007YLTG5I|             |https://www.goodr...|      400|[{159, to-read}, ...|              6|                4|            2009| Simon & Schuster UK|          186| [169353]|[439108, 522621, ...|                15|Crowner Royal (Cr...|Crowner Royal (Cr...|https://www.goodr...| 6243149|\n",
      "|B01NCIKAQX|        [{242185, }]|          4.33|33394837|          US|                    |                   |         |https://images.gr...|    true|          |             | B01NCIKAQX|          eng|https://www.goodr...|      318|[{54, currently-r...|               |                 |                |                    |          269|[1052227]|                  []|                60|The House of Memo...|The House of Memo...|https://www.goodr...|54143148|\n",
      "|          |         [{27397, }]|          3.81|   89371|          US|Taoist philosophy...|                   |         |https://s.gr-asse...|   false|0413675106|9780413675101|           |             |https://www.goodr...|         |[{2979, to-read},...|               |                 |                |                    |           11|[1070125]|[888460, 734023, ...|                 2|    The Te Of Piglet|    The Te Of Piglet|https://www.goodr...|41333541|\n",
      "|          |         [{35259, }]|          2.22|28575155|          US|Spirit Lake ist d...|                   |Hardcover|https://images.gr...|   false|          |9783833903892|           |          ger|https://www.goodr...|      280|[{22, to-read}, {...|             10|                6|            2016|Baumhaus Verlag GmbH|            9|       []|                  []|                 3|Spirit Lake - Die...|Spirit Lake - Die...|https://www.goodr...|48735929|\n",
      "|          |       [{3083854, }]|          3.82|   89373|          US|                    |                   |         |https://s.gr-asse...|   false|555118000X|9785551180005|           |          eng|https://www.goodr...|         |[{3488, to-read},...|               |                 |                |                    |           77|       []|[415854, 45794, 8...|                19|The Bonfire of th...|The Bonfire of th...|https://www.goodr...| 1080201|\n",
      "|          |[{39054, }, {1109...|          3.91|   89375|          US|As he is driving ...|                   |         |https://s.gr-asse...|   false|0800759494|9780800759490| B00B853QPM|             |https://www.goodr...|         |[{9381, to-read},...|               |                 |                |                    |        68157|       []|[299795, 8100288,...|              2885|90 Minutes in Hea...|90 Minutes in Hea...|https://www.goodr...| 2957021|\n",
      "|          |          [{4862, }]|          4.26|   89376|          US|What is Heaven re...|                   |         |https://images.gr...|   false|0842379428|9780842379427| B000FCKCJC|          eng|https://www.goodr...|      533|[{6393, to-read},...|               |                 |                |                    |         7345|       []|[45366, 246849, 1...|               566|              Heaven|              Heaven|https://www.goodr...|   86257|\n",
      "|          |        [{137561, }]|          3.98|   89377|          US|It's 1953 and 11-...|                   |Hardcover|https://images.gr...|   false|037583687X|9780375836879| B0010SEMV4|             |https://www.goodr...|      288|[{4248, to-read},...|             25|                7|            2006|Random House Book...|         6949|       []|[614054, 272343, ...|               615|   Penny from Heaven|   Penny from Heaven|https://www.goodr...|   86258|\n",
      "|          |          [{5411, }]|          4.43|   89378|          US|In Newbery Medali...|                   |Hardcover|https://images.gr...|   false|0590417010|9780590417013| B017RORXNI|          eng|https://www.goodr...|       40|[{450, to-read}, ...|              1|                9|            1995|      Blue Sky Press|         1331|       []|[834493, 452189, ...|               193|          Dog Heaven|          Dog Heaven|https://www.goodr...|   86259|\n",
      "|          |       [{4092328, }]|          4.04|21401188|          US|                    |                   |Paperback|https://images.gr...|   false|          |9781621086949| B00KLGBERQ|          eng|https://www.goodr...|      160|[{70, to-read}, {...|               |                3|            2014|Covenant Communic...|           72|       []|                  []|                22|    Glimmering Light|    Glimmering Light|https://www.goodr...|40699074|\n",
      "+----------+--------------------+--------------+--------+------------+--------------------+-------------------+---------+--------------------+--------+----------+-------------+-----------+-------------+--------------------+---------+--------------------+---------------+-----------------+----------------+--------------------+-------------+---------+--------------------+------------------+--------------------+--------------------+--------------------+--------+\n",
      "only showing top 20 rows\n",
      "\n"
     ]
    }
   ],
   "source": [
    "# Path to your .json.gz file\n",
    "file_path = \"Resources/data/goodreads_books.json.gz\"\n",
    "\n",
    "# Read the compressed JSON file into a DataFrame\n",
    "df = spark.read.json(file_path)\n",
    "\n",
    "# Show the first few rows to verify\n",
    "df.show()"
   ]
  },
  {
   "cell_type": "code",
   "execution_count": 3,
   "metadata": {},
   "outputs": [
    {
     "name": "stdout",
     "output_type": "stream",
     "text": [
      "root\n",
      " |-- asin: string (nullable = true)\n",
      " |-- authors: array (nullable = true)\n",
      " |    |-- element: struct (containsNull = true)\n",
      " |    |    |-- author_id: string (nullable = true)\n",
      " |    |    |-- role: string (nullable = true)\n",
      " |-- average_rating: string (nullable = true)\n",
      " |-- book_id: string (nullable = true)\n",
      " |-- country_code: string (nullable = true)\n",
      " |-- description: string (nullable = true)\n",
      " |-- edition_information: string (nullable = true)\n",
      " |-- format: string (nullable = true)\n",
      " |-- image_url: string (nullable = true)\n",
      " |-- is_ebook: string (nullable = true)\n",
      " |-- isbn: string (nullable = true)\n",
      " |-- isbn13: string (nullable = true)\n",
      " |-- kindle_asin: string (nullable = true)\n",
      " |-- language_code: string (nullable = true)\n",
      " |-- link: string (nullable = true)\n",
      " |-- num_pages: string (nullable = true)\n",
      " |-- popular_shelves: array (nullable = true)\n",
      " |    |-- element: struct (containsNull = true)\n",
      " |    |    |-- count: string (nullable = true)\n",
      " |    |    |-- name: string (nullable = true)\n",
      " |-- publication_day: string (nullable = true)\n",
      " |-- publication_month: string (nullable = true)\n",
      " |-- publication_year: string (nullable = true)\n",
      " |-- publisher: string (nullable = true)\n",
      " |-- ratings_count: string (nullable = true)\n",
      " |-- series: array (nullable = true)\n",
      " |    |-- element: string (containsNull = true)\n",
      " |-- similar_books: array (nullable = true)\n",
      " |    |-- element: string (containsNull = true)\n",
      " |-- text_reviews_count: string (nullable = true)\n",
      " |-- title: string (nullable = true)\n",
      " |-- title_without_series: string (nullable = true)\n",
      " |-- url: string (nullable = true)\n",
      " |-- work_id: string (nullable = true)\n",
      "\n"
     ]
    }
   ],
   "source": [
    "# Print the schema to see the types\n",
    "df.printSchema()"
   ]
  },
  {
   "cell_type": "code",
   "execution_count": 4,
   "metadata": {},
   "outputs": [
    {
     "name": "stderr",
     "output_type": "stream",
     "text": [
      "                                                                                \r"
     ]
    },
    {
     "data": {
      "text/plain": [
       "2360655"
      ]
     },
     "execution_count": 4,
     "metadata": {},
     "output_type": "execute_result"
    }
   ],
   "source": [
    "# Count the number of rows in the DataFrame\n",
    "df.count()"
   ]
  },
  {
   "cell_type": "code",
   "execution_count": 5,
   "metadata": {},
   "outputs": [
    {
     "name": "stderr",
     "output_type": "stream",
     "text": [
      "                                                                                \r"
     ]
    }
   ],
   "source": [
    "# Repartition the DataFrame into smaller chunks\n",
    "num_partitions = 10 \n",
    "df_repartitioned = df.repartition(num_partitions)\n",
    "\n",
    "# Write the repartitioned DataFrame back to disk as multiple files\n",
    "df_repartitioned.write.mode('overwrite').json(\"Resources/data_chunks\")"
   ]
  },
  {
   "cell_type": "code",
   "execution_count": 6,
   "metadata": {},
   "outputs": [],
   "source": [
    "# Stop the Spark session\n",
    "spark.stop()"
   ]
  }
 ],
 "metadata": {
  "kernelspec": {
   "display_name": "dev",
   "language": "python",
   "name": "python3"
  },
  "language_info": {
   "codemirror_mode": {
    "name": "ipython",
    "version": 3
   },
   "file_extension": ".py",
   "mimetype": "text/x-python",
   "name": "python",
   "nbconvert_exporter": "python",
   "pygments_lexer": "ipython3",
   "version": "3.10.13"
  },
  "orig_nbformat": 4
 },
 "nbformat": 4,
 "nbformat_minor": 2
}
