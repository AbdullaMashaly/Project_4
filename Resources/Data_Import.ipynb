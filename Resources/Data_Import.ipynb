{
 "cells": [
  {
   "cell_type": "code",
   "execution_count": 1,
   "metadata": {},
   "outputs": [],
   "source": [
    "# Import Dependencies\n",
    "from pyspark.sql import SparkSession\n",
    "from pyspark.sql.types import IntegerType, FloatType\n",
    "from pyspark.sql.functions import col, explode, when, sum, size\n",
    "\n",
    "# Initialize Spark Session\n",
    "spark = SparkSession.builder.appName(\"BookRatingPrediction\").getOrCreate()"
   ]
  },
  {
   "cell_type": "code",
   "execution_count": 2,
   "metadata": {},
   "outputs": [
    {
     "name": "stderr",
     "output_type": "stream",
     "text": [
      "23/11/22 01:40:46 WARN SparkStringUtils: Truncated the string representation of a plan since it was too large. This behavior can be adjusted by setting 'spark.sql.debug.maxToStringFields'.\n"
     ]
    },
    {
     "name": "stdout",
     "output_type": "stream",
     "text": [
      "+----------+--------------------+--------------+--------+------------+--------------------+-------------------+---------+--------------------+--------+----------+-------------+-----------+-------------+--------------------+---------+--------------------+---------------+-----------------+----------------+--------------------+-------------+---------+--------------------+------------------+--------------------+--------------------+--------------------+--------+\n",
      "|      asin|             authors|average_rating| book_id|country_code|         description|edition_information|   format|           image_url|is_ebook|      isbn|       isbn13|kindle_asin|language_code|                link|num_pages|     popular_shelves|publication_day|publication_month|publication_year|           publisher|ratings_count|   series|       similar_books|text_reviews_count|               title|title_without_series|                 url| work_id|\n",
      "+----------+--------------------+--------------+--------+------------+--------------------+-------------------+---------+--------------------+--------+----------+-------------+-----------+-------------+--------------------+---------+--------------------+---------------+-----------------+----------------+--------------------+-------------+---------+--------------------+------------------+--------------------+--------------------+--------------------+--------+\n",
      "|          |        [{604031, }]|          4.00| 5333265|          US|                    |                   |Paperback|https://images.gr...|   false|0312853122|9780312853129|           |             |https://www.goodr...|      256|[{3, to-read}, {1...|              1|                9|            1984|  St. Martin's Press|            3|       []|                  []|                 1|W.C. Fields: A Li...|W.C. Fields: A Li...|https://www.goodr...| 5400751|\n",
      "|          |        [{626222, }]|          3.23| 1333909|          US|Anita Diamant's i...|           Abridged| Audio CD|https://s.gr-asse...|   false|0743509986|9780743509985| B000FC0PBC|             |https://www.goodr...|         |[{2634, to-read},...|              1|               10|            2001|Simon & Schuster ...|           10|       []|[8709549, 1707405...|                 6|         Good Harbor|         Good Harbor|https://www.goodr...| 1323437|\n",
      "|B00071IKUY|         [{10333, }]|          4.03| 7327624|          US|Omnibus book club...|  Book Club Edition|Hardcover|https://images.gr...|   false|          |             |           |          eng|https://www.goodr...|      600|[{58, to-read}, {...|               |                 |            1987|Nelson Doubleday,...|          140| [189911]|[19997, 828466, 1...|                 7|The Unschooled Wi...|The Unschooled Wi...|https://www.goodr...| 8948723|\n",
      "|          |          [{9212, }]|          3.49| 6066819|          US|Addie Downs and V...|                   |Hardcover|https://s.gr-asse...|   false|0743294297|9780743294294| B002ENBLOK|          eng|https://www.goodr...|      368|[{7615, to-read},...|             14|                7|            2009|         Atria Books|        51184|       []|[6604176, 6054190...|              3282|Best Friends Forever|Best Friends Forever|https://www.goodr...| 6243154|\n",
      "|          |        [{149918, }]|          3.40|  287140|          US|                    |                   |         |https://images.gr...|   false|0850308712|9780850308716|           |             |https://www.goodr...|         |[{32, to-read}, {...|               |                 |                |                    |           15|       []|                  []|                 5|Runic Astrology: ...|Runic Astrology: ...|https://www.goodr...|  278577|\n",
      "|          |       [{3041852, }]|          4.13|  287141|          US|Relates in vigoro...|                   |Paperback|https://s.gr-asse...|   false|1599150603|9781599150604| B00DU10PUG|             |https://www.goodr...|      162|[{56, to-read}, {...|             13|                9|            2006|Yesterday's Classics|           46|       []|                  []|                 7|The Aeneid for Bo...|The Aeneid for Bo...|https://www.goodr...|  278578|\n",
      "|          |        [{215594, }]|          4.38|  378460|          US|                    |                   |Paperback|https://s.gr-asse...|   false|0425040887|9780425040881|           |             |https://www.goodr...|         |[{14, to-read}, {...|              1|                3|            1979|Berkley Publishin...|           12|       []|                  []|                 4|The Wanting of Le...|The Wanting of Le...|https://www.goodr...|  368291|\n",
      "|          |         [{19158, }]|          4.22| 6066812|          US|To Kara's astonis...|                   |Paperback|https://images.gr...|   false|1934876569|9781934876565|           |             |https://www.goodr...|      216|[{515, to-read}, ...|              3|                3|            2009|          Seven Seas|           98| [151854]|[948696, 439885, ...|                 6|All's Fairy in Lo...|All's Fairy in Lo...|https://www.goodr...|  701117|\n",
      "|          |       [{5807700, }]|          3.86|34883016|          US|Secrets. Sometime...|                   |    ebook|https://images.gr...|    true|          |9781370889471|           |             |https://www.goodr...|         |[{4, to-read}, {1...|              3|                5|            2017|Gone Writing Publ...|            5|       []|                  []|                 4|Playmaker: A Veno...|Playmaker: A Veno...|https://www.goodr...|56135087|\n",
      "|          |[{2983296, }, {40...|          3.81|  287149|          US|Wisdom, humor, an...|                   |Paperback|https://images.gr...|   false|0922915113|9780922915118| B00AFYVB8Q|             |https://www.goodr...|      147|[{961, to-read}, ...|              1|                4|            2000|         Feral House|          986|       []|[287151, 1104760,...|                39|The Devil's Notebook|The Devil's Notebook|https://www.goodr...|  278586|\n",
      "|          |         [{37778, }]|          3.93| 6066814|          US|London, 1196. At ...|                   |Hardcover|https://images.gr...|   false|184737297X|9781847372970| B007YLTG5I|             |https://www.goodr...|      400|[{159, to-read}, ...|              6|                4|            2009| Simon & Schuster UK|          186| [169353]|[439108, 522621, ...|                15|Crowner Royal (Cr...|Crowner Royal (Cr...|https://www.goodr...| 6243149|\n",
      "|B01NCIKAQX|        [{242185, }]|          4.33|33394837|          US|                    |                   |         |https://images.gr...|    true|          |             | B01NCIKAQX|          eng|https://www.goodr...|      318|[{54, currently-r...|               |                 |                |                    |          269|[1052227]|                  []|                60|The House of Memo...|The House of Memo...|https://www.goodr...|54143148|\n",
      "|          |         [{27397, }]|          3.81|   89371|          US|Taoist philosophy...|                   |         |https://s.gr-asse...|   false|0413675106|9780413675101|           |             |https://www.goodr...|         |[{2979, to-read},...|               |                 |                |                    |           11|[1070125]|[888460, 734023, ...|                 2|    The Te Of Piglet|    The Te Of Piglet|https://www.goodr...|41333541|\n",
      "|          |         [{35259, }]|          2.22|28575155|          US|Spirit Lake ist d...|                   |Hardcover|https://images.gr...|   false|          |9783833903892|           |          ger|https://www.goodr...|      280|[{22, to-read}, {...|             10|                6|            2016|Baumhaus Verlag GmbH|            9|       []|                  []|                 3|Spirit Lake - Die...|Spirit Lake - Die...|https://www.goodr...|48735929|\n",
      "|          |       [{3083854, }]|          3.82|   89373|          US|                    |                   |         |https://s.gr-asse...|   false|555118000X|9785551180005|           |          eng|https://www.goodr...|         |[{3488, to-read},...|               |                 |                |                    |           77|       []|[415854, 45794, 8...|                19|The Bonfire of th...|The Bonfire of th...|https://www.goodr...| 1080201|\n",
      "|          |[{39054, }, {1109...|          3.91|   89375|          US|As he is driving ...|                   |         |https://s.gr-asse...|   false|0800759494|9780800759490| B00B853QPM|             |https://www.goodr...|         |[{9381, to-read},...|               |                 |                |                    |        68157|       []|[299795, 8100288,...|              2885|90 Minutes in Hea...|90 Minutes in Hea...|https://www.goodr...| 2957021|\n",
      "|          |          [{4862, }]|          4.26|   89376|          US|What is Heaven re...|                   |         |https://images.gr...|   false|0842379428|9780842379427| B000FCKCJC|          eng|https://www.goodr...|      533|[{6393, to-read},...|               |                 |                |                    |         7345|       []|[45366, 246849, 1...|               566|              Heaven|              Heaven|https://www.goodr...|   86257|\n",
      "|          |        [{137561, }]|          3.98|   89377|          US|It's 1953 and 11-...|                   |Hardcover|https://images.gr...|   false|037583687X|9780375836879| B0010SEMV4|             |https://www.goodr...|      288|[{4248, to-read},...|             25|                7|            2006|Random House Book...|         6949|       []|[614054, 272343, ...|               615|   Penny from Heaven|   Penny from Heaven|https://www.goodr...|   86258|\n",
      "|          |          [{5411, }]|          4.43|   89378|          US|In Newbery Medali...|                   |Hardcover|https://images.gr...|   false|0590417010|9780590417013| B017RORXNI|          eng|https://www.goodr...|       40|[{450, to-read}, ...|              1|                9|            1995|      Blue Sky Press|         1331|       []|[834493, 452189, ...|               193|          Dog Heaven|          Dog Heaven|https://www.goodr...|   86259|\n",
      "|          |       [{4092328, }]|          4.04|21401188|          US|                    |                   |Paperback|https://images.gr...|   false|          |9781621086949| B00KLGBERQ|          eng|https://www.goodr...|      160|[{70, to-read}, {...|               |                3|            2014|Covenant Communic...|           72|       []|                  []|                22|    Glimmering Light|    Glimmering Light|https://www.goodr...|40699074|\n",
      "+----------+--------------------+--------------+--------+------------+--------------------+-------------------+---------+--------------------+--------+----------+-------------+-----------+-------------+--------------------+---------+--------------------+---------------+-----------------+----------------+--------------------+-------------+---------+--------------------+------------------+--------------------+--------------------+--------------------+--------+\n",
      "only showing top 20 rows\n",
      "\n"
     ]
    }
   ],
   "source": [
    "# Path to your .json.gz file\n",
    "file_path = \"Resources/data/goodreads_books.json.gz\"\n",
    "\n",
    "# Read the compressed JSON file into a DataFrame\n",
    "df = spark.read.json(file_path)\n",
    "\n",
    "# Show the first few rows to verify\n",
    "df.show()"
   ]
  },
  {
   "cell_type": "code",
   "execution_count": 3,
   "metadata": {},
   "outputs": [
    {
     "name": "stdout",
     "output_type": "stream",
     "text": [
      "root\n",
      " |-- asin: string (nullable = true)\n",
      " |-- authors: array (nullable = true)\n",
      " |    |-- element: struct (containsNull = true)\n",
      " |    |    |-- author_id: string (nullable = true)\n",
      " |    |    |-- role: string (nullable = true)\n",
      " |-- average_rating: string (nullable = true)\n",
      " |-- book_id: string (nullable = true)\n",
      " |-- country_code: string (nullable = true)\n",
      " |-- description: string (nullable = true)\n",
      " |-- edition_information: string (nullable = true)\n",
      " |-- format: string (nullable = true)\n",
      " |-- image_url: string (nullable = true)\n",
      " |-- is_ebook: string (nullable = true)\n",
      " |-- isbn: string (nullable = true)\n",
      " |-- isbn13: string (nullable = true)\n",
      " |-- kindle_asin: string (nullable = true)\n",
      " |-- language_code: string (nullable = true)\n",
      " |-- link: string (nullable = true)\n",
      " |-- num_pages: string (nullable = true)\n",
      " |-- popular_shelves: array (nullable = true)\n",
      " |    |-- element: struct (containsNull = true)\n",
      " |    |    |-- count: string (nullable = true)\n",
      " |    |    |-- name: string (nullable = true)\n",
      " |-- publication_day: string (nullable = true)\n",
      " |-- publication_month: string (nullable = true)\n",
      " |-- publication_year: string (nullable = true)\n",
      " |-- publisher: string (nullable = true)\n",
      " |-- ratings_count: string (nullable = true)\n",
      " |-- series: array (nullable = true)\n",
      " |    |-- element: string (containsNull = true)\n",
      " |-- similar_books: array (nullable = true)\n",
      " |    |-- element: string (containsNull = true)\n",
      " |-- text_reviews_count: string (nullable = true)\n",
      " |-- title: string (nullable = true)\n",
      " |-- title_without_series: string (nullable = true)\n",
      " |-- url: string (nullable = true)\n",
      " |-- work_id: string (nullable = true)\n",
      "\n"
     ]
    }
   ],
   "source": [
    "# Print the schema to see the types\n",
    "df.printSchema()"
   ]
  },
  {
   "cell_type": "code",
   "execution_count": 4,
   "metadata": {},
   "outputs": [
    {
     "name": "stderr",
     "output_type": "stream",
     "text": [
      "                                                                                \r"
     ]
    },
    {
     "data": {
      "text/plain": [
       "2360655"
      ]
     },
     "execution_count": 4,
     "metadata": {},
     "output_type": "execute_result"
    }
   ],
   "source": [
    "# Count the number of rows in the DataFrame\n",
    "df.count()"
   ]
  },
  {
   "cell_type": "code",
   "execution_count": 5,
   "metadata": {},
   "outputs": [
    {
     "name": "stderr",
     "output_type": "stream",
     "text": [
      "                                                                                \r"
     ]
    }
   ],
   "source": [
    "# Repartition the DataFrame into smaller chunks\n",
    "num_partitions = 10 \n",
    "df_repartitioned = df.repartition(num_partitions)\n",
    "\n",
    "# Write the repartitioned DataFrame back to disk as multiple files\n",
    "df_repartitioned.write.mode('overwrite').json(\"Resources/data_chunks\")\n"
   ]
  },
  {
   "cell_type": "code",
   "execution_count": 6,
   "metadata": {},
   "outputs": [
    {
     "name": "stderr",
     "output_type": "stream",
     "text": [
      "                                                                                \r"
     ]
    },
    {
     "name": "stdout",
     "output_type": "stream",
     "text": [
      "+--------------------+--------------+--------------------+-------------+---------+--------------------+----------------+-------------+----------------+------------------+\n",
      "|             authors|average_rating|              format|       isbn13|num_pages|     popular_shelves|publication_year|ratings_count|          series|text_reviews_count|\n",
      "+--------------------+--------------+--------------------+-------------+---------+--------------------+----------------+-------------+----------------+------------------+\n",
      "|[{115816, }, {400...|          3.82|           Paperback|9780890844816|      152|[{10, to-read}, {...|            1989|           20|              []|                 2|\n",
      "|         [{12170, }]|          3.82|           Hardcover|9780679406181|      243|[{29, to-read}, {...|            1992|           19|              []|                 3|\n",
      "|       [{5191981, }]|          4.09|           Paperback|9781844573691|       96|[{11, to-read}, {...|            2012|           11|              []|                 3|\n",
      "|[{176372, }, {462...|          4.27|           Hardcover|9789522601292|      454|[{80543, to-read}...|            2013|           37|              []|                 6|\n",
      "|[{239579, }, {348...|          3.96|           Paperback|9788817018661|      996|[{112623, to-read...|            2007|           20|              []|                 5|\n",
      "|         [{55981, }]|           3.4|           Paperback|9780349115085|      437|[{22, to-read}, {...|            2003|          110|              []|                12|\n",
      "|       [{3064305, }]|          4.24|                    |             |      530|[{2451, to-read},...|                |        23453|[349907, 516980]|               898|\n",
      "|        [{719155, }]|          2.79|           Paperback|9780099457909|      320|[{38, to-read}, {...|            2004|           24|              []|                 3|\n",
      "|         [{39628, }]|          4.42|           Paperback|9780785288602|      240|[{274, to-read}, ...|            2007|          173|              []|                18|\n",
      "|       [{6880288, }]|           0.0|               ebook|             |      135|      [{1, to-read}]|                |            0|              []|                 1|\n",
      "|[{36714, }, {7214...|          3.89|Mass Market Paper...|9780553276732|      320|[{380, to-read}, ...|            1983|         2467|              []|                97|\n",
      "|         [{48206, }]|          4.31|Mass Market Paper...|9782290055717|      343|[{8626, to-read},...|            2012|           23|        [288258]|                 5|\n",
      "|[{14165874, editor}]|           4.0|               ebook|             |      349|[{1, philosophy},...|            2010|            1|              []|                 1|\n",
      "|       [{7112185, }]|           4.0|           Paperback|9781484922378|       58|      [{8, to-read}]|            2013|            2|              []|                 2|\n",
      "|       [{3506596, }]|          4.75|           Paperback|9781614342557|      306|[{13, to-read}, {...|            2011|            4|              []|                 1|\n",
      "|      [{13528401, }]|          4.67|           Paperback|1193760964978|      145|[{12, to-read}, {...|                |           55|              []|                 2|\n",
      "|       [{5115178, }]|          3.92|           Paperback|9789542615118|      317|[{26, to-read}, {...|            2015|           25|              []|                 5|\n",
      "|        [{348878, }]|          3.73|               ebook|9780385375382|       25|[{4018, to-read},...|            2014|           10|        [610144]|                 3|\n",
      "|         [{84941, }]|           4.1|           Paperback|9781895569421|       96|[{25, to-read}, {...|            1995|            9|              []|                 1|\n",
      "|       [{8033644, }]|           1.0|               ebook|             |      326|[{1, owned-and-re...|            2013|            1|              []|                 1|\n",
      "+--------------------+--------------+--------------------+-------------+---------+--------------------+----------------+-------------+----------------+------------------+\n",
      "only showing top 20 rows\n",
      "\n"
     ]
    }
   ],
   "source": [
    "# Read the data back in from the multiple files\n",
    "df = spark.read.json(\"Resources/data_chunks\")\n",
    "\n",
    "# List of columns to drop\n",
    "columns_to_drop = ['asin','country_code', 'book_id','description', 'isbn', 'similar_books', 'title_without_series','is_ebook', 'work_id' , 'link', 'image_url', 'url', 'edition_information', 'kindle_asin','language_code', 'publication_day', 'publication_month', 'publisher', 'title']\n",
    "\n",
    "# Dropping unnecessary columns\n",
    "df = df.drop(*columns_to_drop)\n",
    "\n",
    "# Convert data types\n",
    "df = df.withColumn(\"average_rating\", col(\"average_rating\").cast(FloatType())) \\\n",
    "    .withColumn(\"ratings_count\", col(\"ratings_count\").cast(IntegerType())) \\\n",
    "    .withColumn(\"num_pages\", col(\"num_pages\").cast(IntegerType())) \\\n",
    "    .withColumn(\"text_reviews_count\", col(\"text_reviews_count\").cast(IntegerType()))\n",
    "\n",
    "# drop rows with null values\n",
    "df = df.dropna(how='any')\n",
    "\n",
    "# Show the first few rows to verify\n",
    "df.show()"
   ]
  },
  {
   "cell_type": "code",
   "execution_count": 7,
   "metadata": {},
   "outputs": [
    {
     "name": "stdout",
     "output_type": "stream",
     "text": [
      "root\n",
      " |-- authors: array (nullable = true)\n",
      " |    |-- element: struct (containsNull = true)\n",
      " |    |    |-- author_id: string (nullable = true)\n",
      " |    |    |-- role: string (nullable = true)\n",
      " |-- average_rating: float (nullable = true)\n",
      " |-- format: string (nullable = true)\n",
      " |-- isbn13: string (nullable = true)\n",
      " |-- num_pages: integer (nullable = true)\n",
      " |-- popular_shelves: array (nullable = true)\n",
      " |    |-- element: struct (containsNull = true)\n",
      " |    |    |-- count: string (nullable = true)\n",
      " |    |    |-- name: string (nullable = true)\n",
      " |-- publication_year: string (nullable = true)\n",
      " |-- ratings_count: integer (nullable = true)\n",
      " |-- series: array (nullable = true)\n",
      " |    |-- element: string (containsNull = true)\n",
      " |-- text_reviews_count: integer (nullable = true)\n",
      "\n"
     ]
    }
   ],
   "source": [
    "# Print the schema to see the types\n",
    "df.printSchema()"
   ]
  },
  {
   "cell_type": "code",
   "execution_count": 8,
   "metadata": {},
   "outputs": [
    {
     "name": "stdout",
     "output_type": "stream",
     "text": [
      "+--------------------+--------------+--------------------+-------------+---------+--------------------+----------------+-------------+--------+------------------+\n",
      "|             authors|average_rating|              format|       isbn13|num_pages|     popular_shelves|publication_year|ratings_count|  series|text_reviews_count|\n",
      "+--------------------+--------------+--------------------+-------------+---------+--------------------+----------------+-------------+--------+------------------+\n",
      "|[{115816, }, {400...|          3.82|           Paperback|9780890844816|      152|[{10, to-read}, {...|            1989|           20|      []|                 2|\n",
      "|         [{12170, }]|          3.82|           Hardcover|9780679406181|      243|[{29, to-read}, {...|            1992|           19|      []|                 3|\n",
      "|       [{5191981, }]|          4.09|           Paperback|9781844573691|       96|[{11, to-read}, {...|            2012|           11|      []|                 3|\n",
      "|[{176372, }, {462...|          4.27|           Hardcover|9789522601292|      454|[{80543, to-read}...|            2013|           37|      []|                 6|\n",
      "|[{239579, }, {348...|          3.96|           Paperback|9788817018661|      996|[{112623, to-read...|            2007|           20|      []|                 5|\n",
      "|         [{55981, }]|           3.4|           Paperback|9780349115085|      437|[{22, to-read}, {...|            2003|          110|      []|                12|\n",
      "|        [{719155, }]|          2.79|           Paperback|9780099457909|      320|[{38, to-read}, {...|            2004|           24|      []|                 3|\n",
      "|         [{39628, }]|          4.42|           Paperback|9780785288602|      240|[{274, to-read}, ...|            2007|          173|      []|                18|\n",
      "|[{36714, }, {7214...|          3.89|Mass Market Paper...|9780553276732|      320|[{380, to-read}, ...|            1983|         2467|      []|                97|\n",
      "|         [{48206, }]|          4.31|Mass Market Paper...|9782290055717|      343|[{8626, to-read},...|            2012|           23|[288258]|                 5|\n",
      "|       [{7112185, }]|           4.0|           Paperback|9781484922378|       58|      [{8, to-read}]|            2013|            2|      []|                 2|\n",
      "|       [{3506596, }]|          4.75|           Paperback|9781614342557|      306|[{13, to-read}, {...|            2011|            4|      []|                 1|\n",
      "|       [{5115178, }]|          3.92|           Paperback|9789542615118|      317|[{26, to-read}, {...|            2015|           25|      []|                 5|\n",
      "|        [{348878, }]|          3.73|               ebook|9780385375382|       25|[{4018, to-read},...|            2014|           10|[610144]|                 3|\n",
      "|         [{84941, }]|           4.1|           Paperback|9781895569421|       96|[{25, to-read}, {...|            1995|            9|      []|                 1|\n",
      "|[{1281119, }, {47...|          3.24|           Paperback|9788806198305|      244|[{697, to-read}, ...|            2010|           12|[293915]|                 2|\n",
      "|[{3229808, Editor...|           2.5|           Paperback|9781554589234|      380|[{4, to-read}, {1...|            2015|            2|      []|                 1|\n",
      "|          [{8866, }]|          3.98|Mass Market Paper...|9782290094730|      349|[{1448, to-read},...|            2014|           29|[163823]|                11|\n",
      "|        [{234540, }]|          3.44|           Paperback|9780192850386|      272|[{33, to-read}, {...|            1970|            9|      []|                 2|\n",
      "|       [{6549201, }]|          4.62|           Paperback|9781479122356|      272|[{7, to-read}, {1...|            2013|            1|      []|                 1|\n",
      "+--------------------+--------------+--------------------+-------------+---------+--------------------+----------------+-------------+--------+------------------+\n",
      "only showing top 20 rows\n",
      "\n"
     ]
    }
   ],
   "source": [
    "# To filter out rows with empty strings in any column\n",
    "df_cleaned = df.filter(\n",
    "    (col(\"country_code\").isNotNull() & (col(\"country_code\") != \"\")) &\n",
    "    (col(\"format\").isNotNull() & (col(\"format\") != \"\")) &\n",
    "    (col(\"publication_year\").isNotNull() & (col(\"publication_year\") != \"\")) &\n",
    "    col(\"num_pages\").isNotNull() &\n",
    "    col(\"ratings_count\").isNotNull() &\n",
    "    col(\"text_reviews_count\").isNotNull() & col(\"average_rating\").isNotNull()\n",
    "    & (col(\"isbn13\").isNotNull() & (col(\"isbn13\") != \"\"))\n",
    ")\n",
    "\n",
    "df_cleaned.show()"
   ]
  },
  {
   "cell_type": "code",
   "execution_count": 9,
   "metadata": {},
   "outputs": [],
   "source": [
    "# Drop duplicates\n",
    "df = df_cleaned.dropDuplicates(['isbn13'])"
   ]
  },
  {
   "cell_type": "code",
   "execution_count": 10,
   "metadata": {},
   "outputs": [
    {
     "name": "stderr",
     "output_type": "stream",
     "text": [
      "[Stage 11:=======================================================>(64 + 1) / 65]\r"
     ]
    },
    {
     "name": "stdout",
     "output_type": "stream",
     "text": [
      "+-------------+-------------------+\n",
      "|       isbn13|total_to_read_count|\n",
      "+-------------+-------------------+\n",
      "|0000000001976|                  7|\n",
      "|0000470534982|                  5|\n",
      "|0000521885841|                  7|\n",
      "|0000814474233|                154|\n",
      "|000155206591x|                332|\n",
      "|0008520919197|               1648|\n",
      "|0009773781771|                585|\n",
      "|0009792204458|                984|\n",
      "|0009796865300|                 21|\n",
      "|0020049036464|                461|\n",
      "|0020049070222|                 61|\n",
      "|0021898130853|                 81|\n",
      "|0023755023346|                135|\n",
      "|0023755077226|                 38|\n",
      "|0023755077899|                207|\n",
      "|0025986210915|                 59|\n",
      "|0025986232290|                 48|\n",
      "|0025986236601|                 12|\n",
      "|0025986347017|                 12|\n",
      "|0031809029169|               5143|\n",
      "+-------------+-------------------+\n",
      "only showing top 20 rows\n",
      "\n"
     ]
    },
    {
     "name": "stderr",
     "output_type": "stream",
     "text": [
      "                                                                                \r"
     ]
    }
   ],
   "source": [
    "# Explode the popular_shelves array\n",
    "df_exploded = df.withColumn(\"shelf\", explode(\"popular_shelves\"))\n",
    "\n",
    "# Create a column that holds the count if the shelf name is 'to-read', otherwise 0\n",
    "df_with_count = df_exploded.withColumn(\"to_read_count\", when(col(\"shelf.name\") == \"to-read\", col(\"shelf.count\").cast(\"int\")).otherwise(0))\n",
    "\n",
    "# Aggregate to sum the to-read counts for each book\n",
    "df_aggregated = df_with_count.groupBy(\"isbn13\").agg(sum(\"to_read_count\").alias(\"total_to_read_count\"))\n",
    "\n",
    "# Show the result\n",
    "df_aggregated.show()\n",
    "\n"
   ]
  },
  {
   "cell_type": "code",
   "execution_count": 11,
   "metadata": {},
   "outputs": [
    {
     "name": "stderr",
     "output_type": "stream",
     "text": [
      "[Stage 18:>                                                         (0 + 1) / 1]\r"
     ]
    },
    {
     "name": "stdout",
     "output_type": "stream",
     "text": [
      "+-------------+--------------------+--------------+--------------------+---------+--------------------+----------------+-------------+----------------+------------------+-------------------+\n",
      "|       isbn13|             authors|average_rating|              format|num_pages|     popular_shelves|publication_year|ratings_count|          series|text_reviews_count|total_to_read_count|\n",
      "+-------------+--------------------+--------------+--------------------+---------+--------------------+----------------+-------------+----------------+------------------+-------------------+\n",
      "|0000470534982|         [{16923, }]|          2.86|           Paperback|      273|[{5, to-read}, {1...|            2009|            7|              []|                 2|                  5|\n",
      "|0008520919197|        [{123715, }]|          4.07|           Paperback|      288|[{2944, mystery},...|            2006|           21|[227086, 356197]|                 2|               1648|\n",
      "|0009792204458|          [{6218, }]|          3.55|Mass Market Paper...|      248|[{984, to-read}, ...|            2003|           68|              []|                10|                984|\n",
      "|0020049036464|          [{5544, }]|          3.75|           Paperback|      160|[{461, to-read}, ...|            1998|         1121|        [156947]|                20|                461|\n",
      "|0020049070222|[{1680, }, {57831...|          3.87|           Paperback|      175|[{61, to-read}, {...|            1999|           97|              []|                13|                 61|\n",
      "|0021898130853|[{294872, }, {552...|          3.65|           Paperback|      174|[{81, to-read}, {...|            1993|           71|        [851150]|                 2|                 81|\n",
      "|0023755077899|          [{2737, }]|          4.31|           Paperback|      208|[{207, to-read}, ...|            2002|          172|              []|                 5|                207|\n",
      "|0025986210915|[{55065, }, {2488...|          3.83|           Paperback|      208|[{59, to-read}, {...|            1997|           54|              []|                11|                 59|\n",
      "|0031809029169|[{7625163, }, {15...|          3.97|           Hardcover|      403|[{5143, to-read},...|            1999|          213|        [186765]|                17|               5143|\n",
      "|0031809055007|[{3521078, }, {39...|           4.1|           Paperback|      480|[{301, to-read}, ...|            2000|          402|        [251960]|                26|                301|\n",
      "|0073999309836|[{465474, }, {162...|          4.32|           Hardcover|      208|[{24, to-read}, {...|            2002|           19|              []|                 2|                 24|\n",
      "|0073999461992|[{50412, Editor},...|          3.55|           Paperback|      320|[{36, to-read}, {...|            2000|           32|              []|                 5|                 36|\n",
      "|   0140440488|           [{879, }]|          3.91|           Paperback|      472|[{113873, to-read...|            1974|            2|              []|                 1|             113873|\n",
      "|   0354474503|        [{105491, }]|          3.91|           Hardcover|      367|[{646, to-read}, ...|            1976|            9|              []|                 1|                646|\n",
      "| 039913656ate|        [{152398, }]|          4.33|           Hardcover|      239|[{20, to-read}, {...|            1991|            1|              []|                 1|                 20|\n",
      "|0600835076128|       [{7075447, }]|          4.31|            Audio CD|        9|[{37, to-read}, {...|            2003|           32|              []|                 5|                 37|\n",
      "|0612608449060|            [{68, }]|          3.94|           Paperback|      156|[{250, currently-...|            2002|          584|              []|                50|                  1|\n",
      "|   0615691013|        [{755798, }]|          4.17|           Paperback|      126|[{4, to-read}, {1...|            2012|            6|              []|                 1|                  4|\n",
      "|0619472051177|       [{3388200, }]|           3.6|           Hardcover|      768|[{7, to-read}, {1...|            2003|            7|              []|                 1|                  7|\n",
      "|0639785381839|        [{787373, }]|          3.64|           Paperback|      180|[{182, to-read}, ...|            2003|           96|              []|                 8|                182|\n",
      "+-------------+--------------------+--------------+--------------------+---------+--------------------+----------------+-------------+----------------+------------------+-------------------+\n",
      "only showing top 20 rows\n",
      "\n"
     ]
    },
    {
     "name": "stderr",
     "output_type": "stream",
     "text": [
      "                                                                                \r"
     ]
    }
   ],
   "source": [
    "# Join the original DataFrame with the aggregated DataFrame\n",
    "df = df.join(df_aggregated, \"isbn13\", \"left\")\n",
    "df.show()"
   ]
  },
  {
   "cell_type": "code",
   "execution_count": 12,
   "metadata": {},
   "outputs": [
    {
     "name": "stderr",
     "output_type": "stream",
     "text": [
      "[Stage 20:=======================================================>(64 + 1) / 65]\r"
     ]
    },
    {
     "name": "stdout",
     "output_type": "stream",
     "text": [
      "+-------------+--------------------+--------------+--------------------+---------+--------------------+----------------+-------------+----------------+------------------+-------------------+-------------+\n",
      "|       isbn13|             authors|average_rating|              format|num_pages|     popular_shelves|publication_year|ratings_count|          series|text_reviews_count|total_to_read_count|series_binary|\n",
      "+-------------+--------------------+--------------+--------------------+---------+--------------------+----------------+-------------+----------------+------------------+-------------------+-------------+\n",
      "|0000470534982|         [{16923, }]|          2.86|           Paperback|      273|[{5, to-read}, {1...|            2009|            7|              []|                 2|                  5|            0|\n",
      "|0008520919197|        [{123715, }]|          4.07|           Paperback|      288|[{2944, mystery},...|            2006|           21|[227086, 356197]|                 2|               1648|            1|\n",
      "|0009792204458|          [{6218, }]|          3.55|Mass Market Paper...|      248|[{984, to-read}, ...|            2003|           68|              []|                10|                984|            0|\n",
      "|0020049036464|          [{5544, }]|          3.75|           Paperback|      160|[{461, to-read}, ...|            1998|         1121|        [156947]|                20|                461|            1|\n",
      "|0020049070222|[{1680, }, {57831...|          3.87|           Paperback|      175|[{61, to-read}, {...|            1999|           97|              []|                13|                 61|            0|\n",
      "|0021898130853|[{294872, }, {552...|          3.65|           Paperback|      174|[{81, to-read}, {...|            1993|           71|        [851150]|                 2|                 81|            1|\n",
      "|0023755077899|          [{2737, }]|          4.31|           Paperback|      208|[{207, to-read}, ...|            2002|          172|              []|                 5|                207|            0|\n",
      "|0025986210915|[{55065, }, {2488...|          3.83|           Paperback|      208|[{59, to-read}, {...|            1997|           54|              []|                11|                 59|            0|\n",
      "|0031809029169|[{7625163, }, {15...|          3.97|           Hardcover|      403|[{5143, to-read},...|            1999|          213|        [186765]|                17|               5143|            1|\n",
      "|0031809055007|[{3521078, }, {39...|           4.1|           Paperback|      480|[{301, to-read}, ...|            2000|          402|        [251960]|                26|                301|            1|\n",
      "|0073999309836|[{465474, }, {162...|          4.32|           Hardcover|      208|[{24, to-read}, {...|            2002|           19|              []|                 2|                 24|            0|\n",
      "|0073999461992|[{50412, Editor},...|          3.55|           Paperback|      320|[{36, to-read}, {...|            2000|           32|              []|                 5|                 36|            0|\n",
      "|   0140440488|           [{879, }]|          3.91|           Paperback|      472|[{113873, to-read...|            1974|            2|              []|                 1|             113873|            0|\n",
      "|   0354474503|        [{105491, }]|          3.91|           Hardcover|      367|[{646, to-read}, ...|            1976|            9|              []|                 1|                646|            0|\n",
      "| 039913656ate|        [{152398, }]|          4.33|           Hardcover|      239|[{20, to-read}, {...|            1991|            1|              []|                 1|                 20|            0|\n",
      "|0600835076128|       [{7075447, }]|          4.31|            Audio CD|        9|[{37, to-read}, {...|            2003|           32|              []|                 5|                 37|            0|\n",
      "|0612608449060|            [{68, }]|          3.94|           Paperback|      156|[{250, currently-...|            2002|          584|              []|                50|                  1|            0|\n",
      "|   0615691013|        [{755798, }]|          4.17|           Paperback|      126|[{4, to-read}, {1...|            2012|            6|              []|                 1|                  4|            0|\n",
      "|0619472051177|       [{3388200, }]|           3.6|           Hardcover|      768|[{7, to-read}, {1...|            2003|            7|              []|                 1|                  7|            0|\n",
      "|0639785381839|        [{787373, }]|          3.64|           Paperback|      180|[{182, to-read}, ...|            2003|           96|              []|                 8|                182|            0|\n",
      "+-------------+--------------------+--------------+--------------------+---------+--------------------+----------------+-------------+----------------+------------------+-------------------+-------------+\n",
      "only showing top 20 rows\n",
      "\n"
     ]
    },
    {
     "name": "stderr",
     "output_type": "stream",
     "text": [
      "                                                                                \r"
     ]
    }
   ],
   "source": [
    "# Transform the 'series' column into binary values\n",
    "df = df.withColumn(\"series_binary\", when(size(col(\"series\")) > 0, 1).otherwise(0))\n",
    "df.show()"
   ]
  },
  {
   "cell_type": "code",
   "execution_count": 13,
   "metadata": {},
   "outputs": [
    {
     "name": "stderr",
     "output_type": "stream",
     "text": [
      "[Stage 24:>                                                         (0 + 1) / 1]\r"
     ]
    },
    {
     "name": "stdout",
     "output_type": "stream",
     "text": [
      "+---------+--------------+-------------------+-------------+------------------+\n",
      "|author_id|average_rating|               name|ratings_count|text_reviews_count|\n",
      "+---------+--------------+-------------------+-------------+------------------+\n",
      "|   604031|          3.98|   Ronald J. Fields|           49|                 7|\n",
      "|   626222|          4.08|      Anita Diamant|       546796|             28716|\n",
      "|    10333|          3.92|     Barbara Hambly|       122118|              5075|\n",
      "|     9212|          3.68|    Jennifer Weiner|       888522|             36262|\n",
      "|   149918|          3.82|      Nigel Pennick|         1740|                96|\n",
      "|  3041852|          3.89|   Alfred J. Church|          947|                85|\n",
      "|   215594|          4.17| Michael Halberstam|           23|                 6|\n",
      "|    19158|          4.18|     Rachel Roberts|        13677|               486|\n",
      "|  5807700|          3.99|         V.L. Locey|         3130|               986|\n",
      "|  2983296|          3.48|Anton Szandor LaVey|        12628|               824|\n",
      "|    40075|          3.76|      Kenneth Anger|         5255|               396|\n",
      "|    37778|          3.86|     Bernard Knight|         7836|               616|\n",
      "|   242185|          3.95|     Carolyn Haines|        42549|              2906|\n",
      "|    27397|          4.00|      Benjamin Hoff|       104975|              4231|\n",
      "|    35259|          3.54|   Christopher Ross|          420|                81|\n",
      "|  3083854|          3.84|          Tom Wolfe|       210744|              9732|\n",
      "|    39054|          3.92|          Don Piper|        71959|              3251|\n",
      "|    11099|          3.96|      Cecil Murphey|        86128|              5313|\n",
      "|     4862|          4.29|       Randy Alcorn|        56585|              3992|\n",
      "|   137561|          3.99|   Jennifer L. Holm|       128152|             12146|\n",
      "+---------+--------------+-------------------+-------------+------------------+\n",
      "only showing top 20 rows\n",
      "\n"
     ]
    },
    {
     "name": "stderr",
     "output_type": "stream",
     "text": [
      "                                                                                \r"
     ]
    }
   ],
   "source": [
    "# Path to your .json.gz file\n",
    "file2_path = \"Resources/data/goodreads_book_authors.json.gz\"\n",
    "\n",
    "# Read the compressed JSON file into a DataFrame\n",
    "author_rating_df = spark.read.json(file2_path)\n",
    "\n",
    "# Show the first few rows to verify\n",
    "author_rating_df.show()"
   ]
  },
  {
   "cell_type": "code",
   "execution_count": 14,
   "metadata": {},
   "outputs": [],
   "source": [
    "# Drop unnecessary columns\n",
    "author_rating_df = author_rating_df.drop('name', 'ratings_count', 'text_reviews_count')"
   ]
  },
  {
   "cell_type": "code",
   "execution_count": 15,
   "metadata": {},
   "outputs": [],
   "source": [
    "# Select only the 'authors' and 'isbn13' columns from the main DataFrame\n",
    "df_authors_isbn = df.select(\"authors\", \"isbn13\")"
   ]
  },
  {
   "cell_type": "code",
   "execution_count": 16,
   "metadata": {},
   "outputs": [
    {
     "name": "stderr",
     "output_type": "stream",
     "text": [
      "[Stage 26:======================================================> (63 + 2) / 65]\r"
     ]
    },
    {
     "name": "stdout",
     "output_type": "stream",
     "text": [
      "+-------------+----------------+\n",
      "|       isbn13|unique_author_id|\n",
      "+-------------+----------------+\n",
      "|0000000001976|          180734|\n",
      "|0000000067317|            1654|\n",
      "|0000195118146|          224783|\n",
      "|0000195118146|          363486|\n",
      "|0000195397916|         1842587|\n",
      "|0000262541785|          322903|\n",
      "|0000340826681|           18174|\n",
      "|0000415458250|           21233|\n",
      "|0000470534982|           16923|\n",
      "|0000521885841|         2549651|\n",
      "|0000521885841|         1198502|\n",
      "|0000785116583|           10297|\n",
      "|0000785116583|           10294|\n",
      "|0000814474233|          325296|\n",
      "|0000815774141|         2020614|\n",
      "|0000847691225|         1101012|\n",
      "|0000847691225|          537802|\n",
      "|0000977316351|         1375008|\n",
      "|0001442206098|           65398|\n",
      "|0001442206098|         4623567|\n",
      "+-------------+----------------+\n",
      "only showing top 20 rows\n",
      "\n"
     ]
    },
    {
     "name": "stderr",
     "output_type": "stream",
     "text": [
      "                                                                                \r"
     ]
    }
   ],
   "source": [
    "# Explode the 'authors' column to create a new row for each author\n",
    "df_authors_exploded = df_authors_isbn.withColumn(\"author\", explode(\"authors\"))\n",
    "\n",
    "# Extract the author_id from the struct\n",
    "df_authors_exploded = df_authors_exploded.withColumn(\"unique_author_id\", col(\"author.author_id\"))\n",
    "df_authors_exploded = df_authors_exploded.drop(*[\"author\", \"authors\"])\n",
    "df_authors_exploded.show()"
   ]
  },
  {
   "cell_type": "code",
   "execution_count": 17,
   "metadata": {},
   "outputs": [
    {
     "name": "stderr",
     "output_type": "stream",
     "text": [
      "[Stage 30:======================================================> (63 + 2) / 65]\r"
     ]
    },
    {
     "name": "stdout",
     "output_type": "stream",
     "text": [
      "+-------------+----------------+---------+--------------+\n",
      "|       isbn13|unique_author_id|author_id|average_rating|\n",
      "+-------------+----------------+---------+--------------+\n",
      "|0000000001976|          180734|   180734|          3.77|\n",
      "|0000000067317|            1654|     1654|          4.14|\n",
      "|0000195118146|          224783|   224783|          3.90|\n",
      "|0000195118146|          363486|   363486|          3.83|\n",
      "|0000195397916|         1842587|  1842587|          3.37|\n",
      "|0000262541785|          322903|   322903|          4.06|\n",
      "|0000340826681|           18174|    18174|          4.10|\n",
      "|0000415458250|           21233|    21233|          3.51|\n",
      "|0000470534982|           16923|    16923|          3.37|\n",
      "|0000521885841|         2549651|  2549651|          4.50|\n",
      "|0000521885841|         1198502|  1198502|          3.63|\n",
      "|0000785116583|           10297|    10297|          3.81|\n",
      "|0000785116583|           10294|    10294|          3.83|\n",
      "|0000814474233|          325296|   325296|          3.62|\n",
      "|0000815774141|         2020614|  2020614|          3.99|\n",
      "|0000847691225|         1101012|  1101012|          3.33|\n",
      "|0000847691225|          537802|   537802|          3.57|\n",
      "|0000977316351|         1375008|  1375008|          3.60|\n",
      "|0001442206098|           65398|    65398|          3.73|\n",
      "|0001442206098|         4623567|  4623567|          3.36|\n",
      "+-------------+----------------+---------+--------------+\n",
      "only showing top 20 rows\n",
      "\n"
     ]
    },
    {
     "name": "stderr",
     "output_type": "stream",
     "text": [
      "                                                                                \r"
     ]
    }
   ],
   "source": [
    "# Join with author ratings DataFrame (assuming it exists)\n",
    "df_authors_with_ratings = df_authors_exploded.join(author_rating_df, df_authors_exploded.unique_author_id == author_rating_df.author_id, \"left\")\n",
    "df_authors_with_ratings.show()"
   ]
  },
  {
   "cell_type": "code",
   "execution_count": 18,
   "metadata": {},
   "outputs": [
    {
     "name": "stderr",
     "output_type": "stream",
     "text": [
      "[Stage 36:>                                                         (0 + 1) / 1]\r"
     ]
    },
    {
     "name": "stdout",
     "output_type": "stream",
     "text": [
      "+-------------+-------------------+\n",
      "|       isbn13|avg(average_rating)|\n",
      "+-------------+-------------------+\n",
      "|0000000001976|               3.77|\n",
      "|0000000067317|               4.14|\n",
      "|0000195118146|              3.865|\n",
      "|0000195397916|               3.37|\n",
      "|0000262541785|               4.06|\n",
      "|0000340826681|                4.1|\n",
      "|0000415458250|               3.51|\n",
      "|0000470534982|               3.37|\n",
      "|0000521885841| 4.0649999999999995|\n",
      "|0000785116583| 3.8200000000000003|\n",
      "|0000814474233|               3.62|\n",
      "|0000815774141|               3.99|\n",
      "|0000847691225|               3.45|\n",
      "|0000977316351|                3.6|\n",
      "|0001442206098|              3.545|\n",
      "|000155206591x|               3.77|\n",
      "|0001603705341|               3.52|\n",
      "|0001607061562|               4.07|\n",
      "|0001843608081|               3.93|\n",
      "|0008520919197|               3.97|\n",
      "+-------------+-------------------+\n",
      "only showing top 20 rows\n",
      "\n"
     ]
    },
    {
     "name": "stderr",
     "output_type": "stream",
     "text": [
      "                                                                                \r"
     ]
    }
   ],
   "source": [
    "# Drop author ids columns\n",
    "df_authors_with_ratings = df_authors_with_ratings.drop(*[\"author_id\", \"unique_author_id\"])\n",
    "\n",
    "# Aggregate the author ratings for each book\n",
    "df_authors_agg = df_authors_with_ratings.groupBy(\"isbn13\").agg({\"average_rating\": \"avg\"})\n",
    "df_authors_agg.show()"
   ]
  },
  {
   "cell_type": "code",
   "execution_count": 19,
   "metadata": {},
   "outputs": [
    {
     "name": "stderr",
     "output_type": "stream",
     "text": [
      "[Stage 40:=======================================================>(64 + 1) / 65]\r"
     ]
    },
    {
     "name": "stdout",
     "output_type": "stream",
     "text": [
      "+-------------+--------------------+--------------+--------------------+---------+--------------------+----------------+-------------+----------------+------------------+-------------------+-------------+-------------------+\n",
      "|       isbn13|             authors|average_rating|              format|num_pages|     popular_shelves|publication_year|ratings_count|          series|text_reviews_count|total_to_read_count|series_binary|avg(average_rating)|\n",
      "+-------------+--------------------+--------------+--------------------+---------+--------------------+----------------+-------------+----------------+------------------+-------------------+-------------+-------------------+\n",
      "|0000470534982|         [{16923, }]|          2.86|           Paperback|      273|[{5, to-read}, {1...|            2009|            7|              []|                 2|                  5|            0|               3.37|\n",
      "|0008520919197|        [{123715, }]|          4.07|           Paperback|      288|[{2944, mystery},...|            2006|           21|[227086, 356197]|                 2|               1648|            1|               3.97|\n",
      "|0009792204458|          [{6218, }]|          3.55|Mass Market Paper...|      248|[{984, to-read}, ...|            2003|           68|              []|                10|                984|            0|               3.89|\n",
      "|0020049036464|          [{5544, }]|          3.75|           Paperback|      160|[{461, to-read}, ...|            1998|         1121|        [156947]|                20|                461|            1|               4.07|\n",
      "|0020049070222|[{1680, }, {57831...|          3.87|           Paperback|      175|[{61, to-read}, {...|            1999|           97|              []|                13|                 61|            0|              3.835|\n",
      "|0021898130853|[{294872, }, {552...|          3.65|           Paperback|      174|[{81, to-read}, {...|            1993|           71|        [851150]|                 2|                 81|            1|               3.74|\n",
      "|0023755077899|          [{2737, }]|          4.31|           Paperback|      208|[{207, to-read}, ...|            2002|          172|              []|                 5|                207|            0|               4.34|\n",
      "|0025986210915|[{55065, }, {2488...|          3.83|           Paperback|      208|[{59, to-read}, {...|            1997|           54|              []|                11|                 59|            0| 3.8099999999999996|\n",
      "|0031809029169|[{7625163, }, {15...|          3.97|           Hardcover|      403|[{5143, to-read},...|            1999|          213|        [186765]|                17|               5143|            1| 3.9450000000000003|\n",
      "|0031809055007|[{3521078, }, {39...|           4.1|           Paperback|      480|[{301, to-read}, ...|            2000|          402|        [251960]|                26|                301|            1|               4.13|\n",
      "|0073999309836|[{465474, }, {162...|          4.32|           Hardcover|      208|[{24, to-read}, {...|            2002|           19|              []|                 2|                 24|            0| 4.1850000000000005|\n",
      "|0073999461992|[{50412, Editor},...|          3.55|           Paperback|      320|[{36, to-read}, {...|            2000|           32|              []|                 5|                 36|            0|               3.94|\n",
      "|   0140440488|           [{879, }]|          3.91|           Paperback|      472|[{113873, to-read...|            1974|            2|              []|                 1|             113873|            0|               3.99|\n",
      "|   0354474503|        [{105491, }]|          3.91|           Hardcover|      367|[{646, to-read}, ...|            1976|            9|              []|                 1|                646|            0|               3.78|\n",
      "| 039913656ate|        [{152398, }]|          4.33|           Hardcover|      239|[{20, to-read}, {...|            1991|            1|              []|                 1|                 20|            0|               3.97|\n",
      "|0600835076128|       [{7075447, }]|          4.31|            Audio CD|        9|[{37, to-read}, {...|            2003|           32|              []|                 5|                 37|            0|               4.26|\n",
      "|0612608449060|            [{68, }]|          3.94|           Paperback|      156|[{250, currently-...|            2002|          584|              []|                50|                  1|            0|               4.16|\n",
      "|   0615691013|        [{755798, }]|          4.17|           Paperback|      126|[{4, to-read}, {1...|            2012|            6|              []|                 1|                  4|            0|               3.46|\n",
      "|0619472051177|       [{3388200, }]|           3.6|           Hardcover|      768|[{7, to-read}, {1...|            2003|            7|              []|                 1|                  7|            0|                3.6|\n",
      "|0639785381839|        [{787373, }]|          3.64|           Paperback|      180|[{182, to-read}, ...|            2003|           96|              []|                 8|                182|            0|               3.68|\n",
      "+-------------+--------------------+--------------+--------------------+---------+--------------------+----------------+-------------+----------------+------------------+-------------------+-------------+-------------------+\n",
      "only showing top 20 rows\n",
      "\n"
     ]
    },
    {
     "name": "stderr",
     "output_type": "stream",
     "text": [
      "                                                                                \r"
     ]
    }
   ],
   "source": [
    "# Join the authors average rating with the main DataFrame\n",
    "df = df.join(df_authors_agg, \"isbn13\", \"left\")\n",
    "df.show()"
   ]
  },
  {
   "cell_type": "code",
   "execution_count": 20,
   "metadata": {},
   "outputs": [],
   "source": [
    "# Create a temporary view of the DataFrame\n",
    "df.createOrReplaceTempView(\"books\")"
   ]
  },
  {
   "cell_type": "code",
   "execution_count": 21,
   "metadata": {},
   "outputs": [
    {
     "name": "stderr",
     "output_type": "stream",
     "text": [
      "[Stage 45:======================================================> (63 + 2) / 65]\r"
     ]
    },
    {
     "name": "stdout",
     "output_type": "stream",
     "text": [
      "+--------------------+--------+\n",
      "|              format|count(1)|\n",
      "+--------------------+--------+\n",
      "|           Paperback|  727551|\n",
      "|           Hardcover|  295467|\n",
      "|               ebook|   92761|\n",
      "|Mass Market Paper...|   30394|\n",
      "|            Audio CD|   12047|\n",
      "|     Unknown Binding|    5416|\n",
      "|      Kindle Edition|    4605|\n",
      "|          Board Book|    3886|\n",
      "|           Audiobook|    3435|\n",
      "|               Audio|    1328|\n",
      "+--------------------+--------+\n",
      "\n"
     ]
    },
    {
     "name": "stderr",
     "output_type": "stream",
     "text": [
      "                                                                                \r"
     ]
    }
   ],
   "source": [
    "# Run a SQL query to count the number of books per format\n",
    "spark.sql(\"SELECT format, count(*) FROM books group by format order by 2 desc limit 10\").show()"
   ]
  },
  {
   "cell_type": "code",
   "execution_count": 22,
   "metadata": {},
   "outputs": [
    {
     "name": "stderr",
     "output_type": "stream",
     "text": [
      "[Stage 51:=======================================================>(64 + 1) / 65]\r"
     ]
    },
    {
     "name": "stdout",
     "output_type": "stream",
     "text": [
      "+--------+\n",
      "|count(1)|\n",
      "+--------+\n",
      "|   72323|\n",
      "+--------+\n",
      "\n"
     ]
    },
    {
     "name": "stderr",
     "output_type": "stream",
     "text": [
      "                                                                                \r"
     ]
    }
   ],
   "source": [
    "# Run a SQL query to count the books for less popular formats\n",
    "spark.sql(\"select count (*) from books where format != 'Paperback' and format != 'Hardcover' and format != 'ebook'\").show()"
   ]
  },
  {
   "cell_type": "code",
   "execution_count": 24,
   "metadata": {},
   "outputs": [
    {
     "name": "stderr",
     "output_type": "stream",
     "text": [
      "[Stage 60:=====================================================>  (62 + 3) / 65]\r"
     ]
    },
    {
     "name": "stdout",
     "output_type": "stream",
     "text": [
      "+-------------+--------------------+--------------+---------+---------+--------------------+----------------+-------------+----------------+------------------+-------------------+-------------+-------------------+\n",
      "|       isbn13|             authors|average_rating|   format|num_pages|     popular_shelves|publication_year|ratings_count|          series|text_reviews_count|total_to_read_count|series_binary|avg(average_rating)|\n",
      "+-------------+--------------------+--------------+---------+---------+--------------------+----------------+-------------+----------------+------------------+-------------------+-------------+-------------------+\n",
      "|0000470534982|         [{16923, }]|          2.86|Paperback|      273|[{5, to-read}, {1...|            2009|            7|              []|                 2|                  5|            0|               3.37|\n",
      "|0008520919197|        [{123715, }]|          4.07|Paperback|      288|[{2944, mystery},...|            2006|           21|[227086, 356197]|                 2|               1648|            1|               3.97|\n",
      "|0009792204458|          [{6218, }]|          3.55|    other|      248|[{984, to-read}, ...|            2003|           68|              []|                10|                984|            0|               3.89|\n",
      "|0020049036464|          [{5544, }]|          3.75|Paperback|      160|[{461, to-read}, ...|            1998|         1121|        [156947]|                20|                461|            1|               4.07|\n",
      "|0020049070222|[{1680, }, {57831...|          3.87|Paperback|      175|[{61, to-read}, {...|            1999|           97|              []|                13|                 61|            0|              3.835|\n",
      "|0021898130853|[{294872, }, {552...|          3.65|Paperback|      174|[{81, to-read}, {...|            1993|           71|        [851150]|                 2|                 81|            1|               3.74|\n",
      "|0023755077899|          [{2737, }]|          4.31|Paperback|      208|[{207, to-read}, ...|            2002|          172|              []|                 5|                207|            0|               4.34|\n",
      "|0025986210915|[{55065, }, {2488...|          3.83|Paperback|      208|[{59, to-read}, {...|            1997|           54|              []|                11|                 59|            0| 3.8099999999999996|\n",
      "|0031809029169|[{7625163, }, {15...|          3.97|Hardcover|      403|[{5143, to-read},...|            1999|          213|        [186765]|                17|               5143|            1| 3.9450000000000003|\n",
      "|0031809055007|[{3521078, }, {39...|           4.1|Paperback|      480|[{301, to-read}, ...|            2000|          402|        [251960]|                26|                301|            1|               4.13|\n",
      "|0073999309836|[{465474, }, {162...|          4.32|Hardcover|      208|[{24, to-read}, {...|            2002|           19|              []|                 2|                 24|            0| 4.1850000000000005|\n",
      "|0073999461992|[{50412, Editor},...|          3.55|Paperback|      320|[{36, to-read}, {...|            2000|           32|              []|                 5|                 36|            0|               3.94|\n",
      "|   0140440488|           [{879, }]|          3.91|Paperback|      472|[{113873, to-read...|            1974|            2|              []|                 1|             113873|            0|               3.99|\n",
      "|   0354474503|        [{105491, }]|          3.91|Hardcover|      367|[{646, to-read}, ...|            1976|            9|              []|                 1|                646|            0|               3.78|\n",
      "| 039913656ate|        [{152398, }]|          4.33|Hardcover|      239|[{20, to-read}, {...|            1991|            1|              []|                 1|                 20|            0|               3.97|\n",
      "|0600835076128|       [{7075447, }]|          4.31|    other|        9|[{37, to-read}, {...|            2003|           32|              []|                 5|                 37|            0|               4.26|\n",
      "|0612608449060|            [{68, }]|          3.94|Paperback|      156|[{250, currently-...|            2002|          584|              []|                50|                  1|            0|               4.16|\n",
      "|   0615691013|        [{755798, }]|          4.17|Paperback|      126|[{4, to-read}, {1...|            2012|            6|              []|                 1|                  4|            0|               3.46|\n",
      "|0619472051177|       [{3388200, }]|           3.6|Hardcover|      768|[{7, to-read}, {1...|            2003|            7|              []|                 1|                  7|            0|                3.6|\n",
      "|0639785381839|        [{787373, }]|          3.64|Paperback|      180|[{182, to-read}, ...|            2003|           96|              []|                 8|                182|            0|               3.68|\n",
      "+-------------+--------------------+--------------+---------+---------+--------------------+----------------+-------------+----------------+------------------+-------------------+-------------+-------------------+\n",
      "only showing top 20 rows\n",
      "\n"
     ]
    },
    {
     "name": "stderr",
     "output_type": "stream",
     "text": [
      "                                                                                \r"
     ]
    }
   ],
   "source": [
    "# Change format to 'other' if it is not a popular format\n",
    "df = df.withColumn(\"format\", when((col(\"format\") != \"Paperback\") & (col(\"format\") != \"Hardcover\") & (col(\"format\") != \"ebook\"), \"other\").otherwise(col(\"format\")))\n",
    "df.show()"
   ]
  },
  {
   "cell_type": "code",
   "execution_count": 25,
   "metadata": {},
   "outputs": [
    {
     "name": "stderr",
     "output_type": "stream",
     "text": [
      "[Stage 72:>                                                         (0 + 1) / 1]\r"
     ]
    },
    {
     "name": "stdout",
     "output_type": "stream",
     "text": [
      "+--------------+---------+---------+----------------+-------------+------------------+-------------+-------------+---------------------+\n",
      "|average_rating|   format|num_pages|publication_year|ratings_count|text_reviews_count|to_read_count|series_binary|author_average_rating|\n",
      "+--------------+---------+---------+----------------+-------------+------------------+-------------+-------------+---------------------+\n",
      "|           4.5|Paperback|      140|            1976|            1|                 1|            7|            0|                 3.77|\n",
      "|          2.86|Paperback|      273|            2009|            7|                 2|            5|            0|                 3.37|\n",
      "|           4.5|Hardcover|      385|            2008|            2|                 1|            7|            0|   4.0649999999999995|\n",
      "|          3.62|Hardcover|      220|            2007|           97|                19|          154|            0|                 3.62|\n",
      "|          4.07|Paperback|      288|            2006|           21|                 2|         1648|            1|                 3.97|\n",
      "|          3.68|Paperback|      291|            2008|         1591|                52|          585|            1|                 3.66|\n",
      "|          3.55|    other|      248|            2003|           68|                10|          984|            0|                 3.89|\n",
      "|           3.0|Paperback|      256|            2001|           33|                 1|           21|            0|                 3.55|\n",
      "|          3.75|Paperback|      160|            1998|         1121|                20|          461|            1|                 4.07|\n",
      "|          3.87|Paperback|      175|            1999|           97|                13|           61|            0|                3.835|\n",
      "|          3.65|Paperback|      174|            1993|           71|                 2|           81|            1|                 3.74|\n",
      "|          3.47|Paperback|      224|            2001|           15|                 1|           38|            0|                4.255|\n",
      "|          4.31|Paperback|      208|            2002|          172|                 5|          207|            0|                 4.34|\n",
      "|          3.83|Paperback|      208|            1997|           54|                11|           59|            0|   3.8099999999999996|\n",
      "|           3.9|Hardcover|      336|            2000|           96|                 9|           48|            0|                 4.21|\n",
      "|           4.0|Paperback|      112|            2001|           18|                 4|           12|            0|                 4.52|\n",
      "|          4.07|Paperback|      212|            1973|           12|                 2|           12|            0|                 3.74|\n",
      "|          3.97|Hardcover|      403|            1999|          213|                17|         5143|            1|   3.9450000000000003|\n",
      "|           4.1|Paperback|      480|            2000|          402|                26|          301|            1|                 4.13|\n",
      "|          4.32|Hardcover|      208|            2002|           19|                 2|           24|            0|   4.1850000000000005|\n",
      "+--------------+---------+---------+----------------+-------------+------------------+-------------+-------------+---------------------+\n",
      "only showing top 20 rows\n",
      "\n"
     ]
    },
    {
     "name": "stderr",
     "output_type": "stream",
     "text": [
      "                                                                                \r"
     ]
    }
   ],
   "source": [
    "# Drop unnecessary columns\n",
    "df = df.drop(*[\"isbn13\", \"authors\", \"popular_shelves\", \"series\"])\n",
    "\n",
    "# Rename the columns\n",
    "df = df.withColumnRenamed(\"avg(average_rating)\", \"author_average_rating\") \\\n",
    "    .withColumnRenamed(\"total_to_read_count\", \"to_read_count\")\n",
    "\n",
    "df.show()"
   ]
  },
  {
   "cell_type": "code",
   "execution_count": 26,
   "metadata": {},
   "outputs": [
    {
     "name": "stderr",
     "output_type": "stream",
     "text": [
      "                                                                                \r"
     ]
    }
   ],
   "source": [
    "# Tranform df to pandas dataframe\n",
    "pandas_df = df.toPandas()"
   ]
  },
  {
   "cell_type": "code",
   "execution_count": 28,
   "metadata": {},
   "outputs": [],
   "source": [
    "# Save pandas dataframe to csv\n",
    "pandas_df.to_csv(\"Resources/panda_df/books_cleaned.csv\", index=False)"
   ]
  },
  {
   "cell_type": "code",
   "execution_count": 30,
   "metadata": {},
   "outputs": [
    {
     "name": "stderr",
     "output_type": "stream",
     "text": [
      "23/11/22 02:07:48 WARN RowBasedKeyValueBatch: Calling spill() on RowBasedKeyValueBatch. Will not spill but return 0.\n",
      "                                                                                \r"
     ]
    }
   ],
   "source": [
    "# Extract a sample of the DataFrame\n",
    "df_sample = df.sample(False, 0.05, seed=42)\n",
    "df_sample_pandas = df_sample.toPandas()\n",
    "df_sample_pandas.to_csv(\"Resources/panda_df/books_cleaned_sample.csv\", index=False)"
   ]
  },
  {
   "cell_type": "code",
   "execution_count": 31,
   "metadata": {},
   "outputs": [],
   "source": [
    "# Stop the Spark session\n",
    "spark.stop()"
   ]
  }
 ],
 "metadata": {
  "kernelspec": {
   "display_name": "dev",
   "language": "python",
   "name": "python3"
  },
  "language_info": {
   "codemirror_mode": {
    "name": "ipython",
    "version": 3
   },
   "file_extension": ".py",
   "mimetype": "text/x-python",
   "name": "python",
   "nbconvert_exporter": "python",
   "pygments_lexer": "ipython3",
   "version": "3.10.11"
  },
  "orig_nbformat": 4
 },
 "nbformat": 4,
 "nbformat_minor": 2
}
